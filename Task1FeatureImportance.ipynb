{
 "cells": [
  {
   "metadata": {},
   "cell_type": "markdown",
   "source": [
    "# Unsupervised Machine Learning Case Study: Mental Health in Technology-related jobs\n",
    "\n",
    "## Data Analysis: Feature Importance\n",
    "\n",
    "#### This is a purely supplementary notebook to data analysis for feature importance only. \n",
    "\n",
    "## Notebook Objectives:\n",
    "\n",
    "1. Load encoded and labeled data set\n",
    "2. Transform cluster labels into binary values for Supervised Machine Learning\n",
    "3. Use RandomForestClassifier to find Feature Importance for each cluster. \n",
    "\n",
    "This analysis provided insight in important features for individual cluster formation and the foundation for data visualization for the Mental Health in Technology dataset. "
   ],
   "id": "d91102f9b54c68af"
  },
  {
   "metadata": {
    "ExecuteTime": {
     "end_time": "2024-11-18T14:38:01.338172Z",
     "start_time": "2024-11-18T14:38:01.334702Z"
    }
   },
   "cell_type": "code",
   "source": [
    "import pandas as pd\n",
    "import numpy as np\n",
    "from sklearn.ensemble import RandomForestClassifier\n",
    "from sklearn.model_selection import train_test_split\n",
    "from yellowbrick.model_selection import feature_importances\n"
   ],
   "id": "ca7819e21728a7ce",
   "outputs": [],
   "execution_count": 26
  },
  {
   "metadata": {
    "ExecuteTime": {
     "end_time": "2024-11-18T14:38:01.394905Z",
     "start_time": "2024-11-18T14:38:01.361313Z"
    }
   },
   "cell_type": "code",
   "source": [
    "# Load in the data\n",
    "data = pd.read_csv('tech_df_encoded_scaled_clustered.csv')"
   ],
   "id": "4b6717ac78bce611",
   "outputs": [],
   "execution_count": 27
  },
  {
   "metadata": {
    "ExecuteTime": {
     "end_time": "2024-11-18T14:38:01.426672Z",
     "start_time": "2024-11-18T14:38:01.419878Z"
    }
   },
   "cell_type": "code",
   "source": "data['clusters'].value_counts()",
   "id": "b63ab285856bc06b",
   "outputs": [
    {
     "data": {
      "text/plain": [
       "clusters\n",
       "1    495\n",
       "2    329\n",
       "0    322\n",
       "Name: count, dtype: int64"
      ]
     },
     "execution_count": 28,
     "metadata": {},
     "output_type": "execute_result"
    }
   ],
   "execution_count": 28
  },
  {
   "metadata": {
    "ExecuteTime": {
     "end_time": "2024-11-18T14:38:01.494689Z",
     "start_time": "2024-11-18T14:38:01.485584Z"
    }
   },
   "cell_type": "code",
   "source": [
    "# Map clusters from 0-2 to a binary classification. \n",
    "\n",
    "data['Binary Cluster 0'] = data['clusters'].map({0: 1, 1: 0, 2: 0})\n",
    "data['Binary Cluster 1'] = data['clusters'].map({0: 0, 1: 1, 2: 0})\n",
    "data['Binary Cluster 2'] = data['clusters'].map({0: 0, 1: 0, 2: 1})\n",
    "\n",
    "print(data['Binary Cluster 0'].value_counts())\n",
    "print(data['Binary Cluster 1'].value_counts())\n",
    "print(data['Binary Cluster 2'].value_counts())\n"
   ],
   "id": "93025cadde3ea6eb",
   "outputs": [
    {
     "name": "stdout",
     "output_type": "stream",
     "text": [
      "Binary Cluster 0\n",
      "0    824\n",
      "1    322\n",
      "Name: count, dtype: int64\n",
      "Binary Cluster 1\n",
      "0    651\n",
      "1    495\n",
      "Name: count, dtype: int64\n",
      "Binary Cluster 2\n",
      "0    817\n",
      "1    329\n",
      "Name: count, dtype: int64\n"
     ]
    }
   ],
   "execution_count": 29
  },
  {
   "metadata": {
    "ExecuteTime": {
     "end_time": "2024-11-18T14:38:01.560407Z",
     "start_time": "2024-11-18T14:38:01.555386Z"
    }
   },
   "cell_type": "code",
   "source": "data = data.drop('clusters', axis=1)",
   "id": "6259d7957e3403f",
   "outputs": [],
   "execution_count": 30
  },
  {
   "metadata": {
    "ExecuteTime": {
     "end_time": "2024-11-18T14:38:01.821951Z",
     "start_time": "2024-11-18T14:38:01.598102Z"
    }
   },
   "cell_type": "code",
   "source": [
    "# Cluster 0\n",
    "\n",
    "X = data.drop(['Binary Cluster 0', 'Binary Cluster 1', 'Binary Cluster 2'], axis=1)\n",
    "y = data['Binary Cluster 0']\n",
    "\n",
    "rf = RandomForestClassifier(n_estimators=100, random_state=42)\n",
    "rf.fit(X, y)\n",
    "\n",
    "# Get the feature importance\n",
    "\n",
    "feature_importance_0 = rf.feature_importances_\n",
    "\n",
    "# Create a DataFrame to visualize feature importance\n",
    "\n",
    "feature_importance_df_0 = pd.DataFrame({'Feature': X.columns, 'Importance': feature_importance_0})\n",
    "\n",
    "# Sort the DataFrame in order of importance\n",
    "feature_importance_df_0 = feature_importance_df_0.sort_values('Importance', ascending=False)\n",
    "\n",
    "# Display the top features\n",
    "\n",
    "print(feature_importance_df_0.head(10))\n",
    "\n"
   ],
   "id": "deced5047d8793a1",
   "outputs": [
    {
     "name": "stdout",
     "output_type": "stream",
     "text": [
      "                                            Feature  Importance\n",
      "80           at_any_point_diagnosed_MH_disorder_Yes    0.130364\n",
      "81                        treatment_MH_disorder_Yes    0.077209\n",
      "87                continent_residence_North America    0.073267\n",
      "86                       continent_residence_Europe    0.069905\n",
      "94                     continent_work_North America    0.069535\n",
      "14  interference_with_work_with_effective_treatment    0.068771\n",
      "15   interference_with_work_NOT_effective_treatment    0.068550\n",
      "25                       past_history_mental_health    0.068495\n",
      "93                            continent_work_Europe    0.049908\n",
      "26                              current_MH_disorder    0.040726\n"
     ]
    }
   ],
   "execution_count": 31
  },
  {
   "metadata": {
    "ExecuteTime": {
     "end_time": "2024-11-18T14:38:02.034430Z",
     "start_time": "2024-11-18T14:38:01.845180Z"
    }
   },
   "cell_type": "code",
   "source": [
    "# Cluster 1\n",
    "\n",
    "X = data.drop(['Binary Cluster 0', 'Binary Cluster 1', 'Binary Cluster 2'], axis=1)\n",
    "y = data['Binary Cluster 1']\n",
    "\n",
    "rf = RandomForestClassifier(n_estimators=100, random_state=42)\n",
    "rf.fit(X, y)\n",
    "\n",
    "# Get the feature importance\n",
    "\n",
    "feature_importance_1 = rf.feature_importances_\n",
    "\n",
    "# Create a DataFrame to visualize feature importance\n",
    "\n",
    "feature_importance_df_1 = pd.DataFrame({'Feature': X.columns, 'Importance': feature_importance_1})\n",
    "\n",
    "# Sort the DataFrame in order of importance\n",
    "feature_importance_df_1 = feature_importance_df_1.sort_values('Importance', ascending=False)\n",
    "\n",
    "# Display the top features\n",
    "\n",
    "print(feature_importance_df_1.head(10))\n",
    "\n"
   ],
   "id": "a34dab99ee34beed",
   "outputs": [
    {
     "name": "stdout",
     "output_type": "stream",
     "text": [
      "                                            Feature  Importance\n",
      "80           at_any_point_diagnosed_MH_disorder_Yes    0.133929\n",
      "81                        treatment_MH_disorder_Yes    0.087944\n",
      "25                       past_history_mental_health    0.081373\n",
      "94                     continent_work_North America    0.067157\n",
      "14  interference_with_work_with_effective_treatment    0.065631\n",
      "26                              current_MH_disorder    0.056945\n",
      "86                       continent_residence_Europe    0.054580\n",
      "15   interference_with_work_NOT_effective_treatment    0.053639\n",
      "87                continent_residence_North America    0.052287\n",
      "93                            continent_work_Europe    0.049063\n"
     ]
    }
   ],
   "execution_count": 32
  },
  {
   "metadata": {
    "ExecuteTime": {
     "end_time": "2024-11-18T14:38:02.303402Z",
     "start_time": "2024-11-18T14:38:02.122483Z"
    }
   },
   "cell_type": "code",
   "source": [
    "# Cluster 2\n",
    "\n",
    "X = data.drop(['Binary Cluster 0', 'Binary Cluster 1', 'Binary Cluster 2'], axis=1)\n",
    "y = data['Binary Cluster 2']\n",
    "\n",
    "rf = RandomForestClassifier(n_estimators=100, random_state=42)\n",
    "rf.fit(X, y)\n",
    "\n",
    "# Get the feature importance\n",
    "\n",
    "feature_importance_2 = rf.feature_importances_\n",
    "\n",
    "# Create a DataFrame to visualize feature importance\n",
    "\n",
    "feature_importance_df_2 = pd.DataFrame({'Feature': X.columns, 'Importance': feature_importance_2})\n",
    "\n",
    "# Sort the DataFrame in order of importance\n",
    "feature_importance_df_2 = feature_importance_df_2.sort_values('Importance', ascending=False)\n",
    "\n",
    "# Display the top features\n",
    "\n",
    "print(feature_importance_df_2.head(10))\n",
    "\n"
   ],
   "id": "df11883346541c85",
   "outputs": [
    {
     "name": "stdout",
     "output_type": "stream",
     "text": [
      "                                              Feature  Importance\n",
      "94                       continent_work_North America    0.238214\n",
      "87                  continent_residence_North America    0.169134\n",
      "86                         continent_residence_Europe    0.164744\n",
      "93                              continent_work_Europe    0.157633\n",
      "43                         mental_health_benefits_Yes    0.016889\n",
      "45           mental_health_coverage_awareness_Missing    0.016059\n",
      "2            previous_employer_mental_health_benefits    0.013399\n",
      "41                          mental_health_benefits_No    0.012118\n",
      "52                         mental_health_resources_No    0.009188\n",
      "3   previous_employer_mental_health_coverage_aware...    0.008340\n"
     ]
    }
   ],
   "execution_count": 33
  }
 ],
 "metadata": {
  "kernelspec": {
   "display_name": "Python 3",
   "language": "python",
   "name": "python3"
  },
  "language_info": {
   "codemirror_mode": {
    "name": "ipython",
    "version": 2
   },
   "file_extension": ".py",
   "mimetype": "text/x-python",
   "name": "python",
   "nbconvert_exporter": "python",
   "pygments_lexer": "ipython2",
   "version": "2.7.6"
  }
 },
 "nbformat": 4,
 "nbformat_minor": 5
}
