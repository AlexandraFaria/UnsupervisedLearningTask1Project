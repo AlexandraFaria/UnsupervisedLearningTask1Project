{
 "cells": [
  {
   "metadata": {},
   "cell_type": "markdown",
   "source": [
    "This notebook is for Task 1: Mental Health in Technology-related jobs. \n",
    "Throughout this notebook I will document the required steps to complete this data analysis task and the unsupervised machine learning model utilized. "
   ],
   "id": "73836502681c687f"
  },
  {
   "metadata": {},
   "cell_type": "markdown",
   "source": [
    "\n",
    "Objectives: \n",
    "1.) Data Cleaning: Manage missing values, redundant or irrelevant columns, and non-standardized textual inputs. \n",
    "2.) Utilize an unsupervised machine learning model to cluster the data.\n",
    "3.) Provide visualizes to gain insights into each cluster."
   ],
   "id": "2682521ef10a8171"
  },
  {
   "metadata": {
    "ExecuteTime": {
     "end_time": "2024-11-05T17:41:43.655117Z",
     "start_time": "2024-11-05T17:41:43.651179Z"
    }
   },
   "cell_type": "code",
   "source": [
    "# Import required libraries\n",
    "\n",
    "import pandas as pd\n",
    "import numpy as np\n",
    "import matplotlib.pyplot as plt\n",
    "import seaborn as sns\n",
    "from kaggle.api.kaggle_api_extended import KaggleApi\n",
    "import zipfile"
   ],
   "id": "5c11532042d91617",
   "outputs": [],
   "execution_count": 723
  },
  {
   "metadata": {},
   "cell_type": "markdown",
   "source": "Step 1: Download the dataset from Kaggle",
   "id": "5b5a64e2abbca7ab"
  },
  {
   "metadata": {
    "ExecuteTime": {
     "end_time": "2024-11-05T17:41:45.399153Z",
     "start_time": "2024-11-05T17:41:43.685160Z"
    }
   },
   "cell_type": "code",
   "source": [
    "# Download the dataset from Kaggle\n",
    "\n",
    "api = KaggleApi()\n",
    "api.authenticate()\n",
    "\n",
    "kaggle_user = 'osmi'\n",
    "kaggle_project = 'mental-health-in-tech-2016'\n",
    "api.dataset_download_files(kaggle_user + '/' + kaggle_project)\n",
    "\n",
    "#unzip the dataset\n",
    "zip = zipfile.ZipFile(kaggle_project + '.zip').extractall()\n",
    "\n",
    "# load the data\n",
    "tech_df = pd.read_csv('mental-heath-in-tech-2016_20161114.csv')\n",
    "\n",
    "# Create dataframe \n",
    "tech_df = pd.DataFrame(tech_df)"
   ],
   "id": "39c30ad664e9b6ba",
   "outputs": [
    {
     "name": "stdout",
     "output_type": "stream",
     "text": [
      "Dataset URL: https://www.kaggle.com/datasets/osmi/mental-health-in-tech-2016\n"
     ]
    }
   ],
   "execution_count": 724
  },
  {
   "metadata": {
    "ExecuteTime": {
     "end_time": "2024-11-05T17:41:45.434389Z",
     "start_time": "2024-11-05T17:41:45.427504Z"
    }
   },
   "cell_type": "code",
   "source": [
    "# Check the dataset is as expected: 63 columns and 1433 rows\n",
    "tech_df.shape"
   ],
   "id": "85fea9a23d56cb0a",
   "outputs": [
    {
     "data": {
      "text/plain": [
       "(1433, 63)"
      ]
     },
     "execution_count": 725,
     "metadata": {},
     "output_type": "execute_result"
    }
   ],
   "execution_count": 725
  },
  {
   "metadata": {
    "ExecuteTime": {
     "end_time": "2024-11-05T17:41:45.475815Z",
     "start_time": "2024-11-05T17:41:45.462482Z"
    }
   },
   "cell_type": "code",
   "source": [
    "# Display the first 5 rows of the dataset\n",
    "tech_df.head()"
   ],
   "id": "83eb50600a28256f",
   "outputs": [
    {
     "data": {
      "text/plain": [
       "   Are you self-employed?  \\\n",
       "0                       0   \n",
       "1                       0   \n",
       "2                       0   \n",
       "3                       1   \n",
       "4                       0   \n",
       "\n",
       "  How many employees does your company or organization have?  \\\n",
       "0                                             26-100           \n",
       "1                                               6-25           \n",
       "2                                               6-25           \n",
       "3                                                NaN           \n",
       "4                                               6-25           \n",
       "\n",
       "   Is your employer primarily a tech company/organization?  \\\n",
       "0                                                1.0         \n",
       "1                                                1.0         \n",
       "2                                                1.0         \n",
       "3                                                NaN         \n",
       "4                                                0.0         \n",
       "\n",
       "   Is your primary role within your company related to tech/IT?  \\\n",
       "0                                                NaN              \n",
       "1                                                NaN              \n",
       "2                                                NaN              \n",
       "3                                                NaN              \n",
       "4                                                1.0              \n",
       "\n",
       "  Does your employer provide mental health benefits as part of healthcare coverage?  \\\n",
       "0                    Not eligible for coverage / N/A                                  \n",
       "1                                                 No                                  \n",
       "2                                                 No                                  \n",
       "3                                                NaN                                  \n",
       "4                                                Yes                                  \n",
       "\n",
       "  Do you know the options for mental health care available under your employer-provided coverage?  \\\n",
       "0                                                NaN                                                \n",
       "1                                                Yes                                                \n",
       "2                                                NaN                                                \n",
       "3                                                NaN                                                \n",
       "4                                                Yes                                                \n",
       "\n",
       "  Has your employer ever formally discussed mental health (for example, as part of a wellness campaign or other official communication)?  \\\n",
       "0                                                 No                                                                                       \n",
       "1                                                Yes                                                                                       \n",
       "2                                                 No                                                                                       \n",
       "3                                                NaN                                                                                       \n",
       "4                                                 No                                                                                       \n",
       "\n",
       "  Does your employer offer resources to learn more about mental health concerns and options for seeking help?  \\\n",
       "0                                                 No                                                            \n",
       "1                                                Yes                                                            \n",
       "2                                                 No                                                            \n",
       "3                                                NaN                                                            \n",
       "4                                                 No                                                            \n",
       "\n",
       "  Is your anonymity protected if you choose to take advantage of mental health or substance abuse treatment resources provided by your employer?  \\\n",
       "0                                       I don't know                                                                                               \n",
       "1                                                Yes                                                                                               \n",
       "2                                       I don't know                                                                                               \n",
       "3                                                NaN                                                                                               \n",
       "4                                                 No                                                                                               \n",
       "\n",
       "  If a mental health issue prompted you to request a medical leave from work, asking for that leave would be:  \\\n",
       "0                                          Very easy                                                            \n",
       "1                                      Somewhat easy                                                            \n",
       "2                         Neither easy nor difficult                                                            \n",
       "3                                                NaN                                                            \n",
       "4                         Neither easy nor difficult                                                            \n",
       "\n",
       "   ...  \\\n",
       "0  ...   \n",
       "1  ...   \n",
       "2  ...   \n",
       "3  ...   \n",
       "4  ...   \n",
       "\n",
       "  If you have a mental health issue, do you feel that it interferes with your work when being treated effectively?  \\\n",
       "0                               Not applicable to me                                                                 \n",
       "1                                             Rarely                                                                 \n",
       "2                               Not applicable to me                                                                 \n",
       "3                                          Sometimes                                                                 \n",
       "4                                          Sometimes                                                                 \n",
       "\n",
       "  If you have a mental health issue, do you feel that it interferes with your work when NOT being treated effectively?  \\\n",
       "0                               Not applicable to me                                                                     \n",
       "1                                          Sometimes                                                                     \n",
       "2                               Not applicable to me                                                                     \n",
       "3                                          Sometimes                                                                     \n",
       "4                                          Sometimes                                                                     \n",
       "\n",
       "  What is your age? What is your gender? What country do you live in?  \\\n",
       "0                39                 Male               United Kingdom   \n",
       "1                29                 male     United States of America   \n",
       "2                38                Male                United Kingdom   \n",
       "3                43                 male               United Kingdom   \n",
       "4                43               Female     United States of America   \n",
       "\n",
       "  What US state or territory do you live in?  What country do you work in?  \\\n",
       "0                                        NaN                United Kingdom   \n",
       "1                                   Illinois      United States of America   \n",
       "2                                        NaN                United Kingdom   \n",
       "3                                        NaN                United Kingdom   \n",
       "4                                   Illinois      United States of America   \n",
       "\n",
       "  What US state or territory do you work in?  \\\n",
       "0                                        NaN   \n",
       "1                                   Illinois   \n",
       "2                                        NaN   \n",
       "3                                        NaN   \n",
       "4                                   Illinois   \n",
       "\n",
       "  Which of the following best describes your work position?  \\\n",
       "0                                 Back-end Developer          \n",
       "1             Back-end Developer|Front-end Developer          \n",
       "2                                 Back-end Developer          \n",
       "3                               Supervisor/Team Lead          \n",
       "4  Executive Leadership|Supervisor/Team Lead|Dev ...          \n",
       "\n",
       "  Do you work remotely?  \n",
       "0             Sometimes  \n",
       "1                 Never  \n",
       "2                Always  \n",
       "3             Sometimes  \n",
       "4             Sometimes  \n",
       "\n",
       "[5 rows x 63 columns]"
      ],
      "text/html": [
       "<div>\n",
       "<style scoped>\n",
       "    .dataframe tbody tr th:only-of-type {\n",
       "        vertical-align: middle;\n",
       "    }\n",
       "\n",
       "    .dataframe tbody tr th {\n",
       "        vertical-align: top;\n",
       "    }\n",
       "\n",
       "    .dataframe thead th {\n",
       "        text-align: right;\n",
       "    }\n",
       "</style>\n",
       "<table border=\"1\" class=\"dataframe\">\n",
       "  <thead>\n",
       "    <tr style=\"text-align: right;\">\n",
       "      <th></th>\n",
       "      <th>Are you self-employed?</th>\n",
       "      <th>How many employees does your company or organization have?</th>\n",
       "      <th>Is your employer primarily a tech company/organization?</th>\n",
       "      <th>Is your primary role within your company related to tech/IT?</th>\n",
       "      <th>Does your employer provide mental health benefits as part of healthcare coverage?</th>\n",
       "      <th>Do you know the options for mental health care available under your employer-provided coverage?</th>\n",
       "      <th>Has your employer ever formally discussed mental health (for example, as part of a wellness campaign or other official communication)?</th>\n",
       "      <th>Does your employer offer resources to learn more about mental health concerns and options for seeking help?</th>\n",
       "      <th>Is your anonymity protected if you choose to take advantage of mental health or substance abuse treatment resources provided by your employer?</th>\n",
       "      <th>If a mental health issue prompted you to request a medical leave from work, asking for that leave would be:</th>\n",
       "      <th>...</th>\n",
       "      <th>If you have a mental health issue, do you feel that it interferes with your work when being treated effectively?</th>\n",
       "      <th>If you have a mental health issue, do you feel that it interferes with your work when NOT being treated effectively?</th>\n",
       "      <th>What is your age?</th>\n",
       "      <th>What is your gender?</th>\n",
       "      <th>What country do you live in?</th>\n",
       "      <th>What US state or territory do you live in?</th>\n",
       "      <th>What country do you work in?</th>\n",
       "      <th>What US state or territory do you work in?</th>\n",
       "      <th>Which of the following best describes your work position?</th>\n",
       "      <th>Do you work remotely?</th>\n",
       "    </tr>\n",
       "  </thead>\n",
       "  <tbody>\n",
       "    <tr>\n",
       "      <th>0</th>\n",
       "      <td>0</td>\n",
       "      <td>26-100</td>\n",
       "      <td>1.0</td>\n",
       "      <td>NaN</td>\n",
       "      <td>Not eligible for coverage / N/A</td>\n",
       "      <td>NaN</td>\n",
       "      <td>No</td>\n",
       "      <td>No</td>\n",
       "      <td>I don't know</td>\n",
       "      <td>Very easy</td>\n",
       "      <td>...</td>\n",
       "      <td>Not applicable to me</td>\n",
       "      <td>Not applicable to me</td>\n",
       "      <td>39</td>\n",
       "      <td>Male</td>\n",
       "      <td>United Kingdom</td>\n",
       "      <td>NaN</td>\n",
       "      <td>United Kingdom</td>\n",
       "      <td>NaN</td>\n",
       "      <td>Back-end Developer</td>\n",
       "      <td>Sometimes</td>\n",
       "    </tr>\n",
       "    <tr>\n",
       "      <th>1</th>\n",
       "      <td>0</td>\n",
       "      <td>6-25</td>\n",
       "      <td>1.0</td>\n",
       "      <td>NaN</td>\n",
       "      <td>No</td>\n",
       "      <td>Yes</td>\n",
       "      <td>Yes</td>\n",
       "      <td>Yes</td>\n",
       "      <td>Yes</td>\n",
       "      <td>Somewhat easy</td>\n",
       "      <td>...</td>\n",
       "      <td>Rarely</td>\n",
       "      <td>Sometimes</td>\n",
       "      <td>29</td>\n",
       "      <td>male</td>\n",
       "      <td>United States of America</td>\n",
       "      <td>Illinois</td>\n",
       "      <td>United States of America</td>\n",
       "      <td>Illinois</td>\n",
       "      <td>Back-end Developer|Front-end Developer</td>\n",
       "      <td>Never</td>\n",
       "    </tr>\n",
       "    <tr>\n",
       "      <th>2</th>\n",
       "      <td>0</td>\n",
       "      <td>6-25</td>\n",
       "      <td>1.0</td>\n",
       "      <td>NaN</td>\n",
       "      <td>No</td>\n",
       "      <td>NaN</td>\n",
       "      <td>No</td>\n",
       "      <td>No</td>\n",
       "      <td>I don't know</td>\n",
       "      <td>Neither easy nor difficult</td>\n",
       "      <td>...</td>\n",
       "      <td>Not applicable to me</td>\n",
       "      <td>Not applicable to me</td>\n",
       "      <td>38</td>\n",
       "      <td>Male</td>\n",
       "      <td>United Kingdom</td>\n",
       "      <td>NaN</td>\n",
       "      <td>United Kingdom</td>\n",
       "      <td>NaN</td>\n",
       "      <td>Back-end Developer</td>\n",
       "      <td>Always</td>\n",
       "    </tr>\n",
       "    <tr>\n",
       "      <th>3</th>\n",
       "      <td>1</td>\n",
       "      <td>NaN</td>\n",
       "      <td>NaN</td>\n",
       "      <td>NaN</td>\n",
       "      <td>NaN</td>\n",
       "      <td>NaN</td>\n",
       "      <td>NaN</td>\n",
       "      <td>NaN</td>\n",
       "      <td>NaN</td>\n",
       "      <td>NaN</td>\n",
       "      <td>...</td>\n",
       "      <td>Sometimes</td>\n",
       "      <td>Sometimes</td>\n",
       "      <td>43</td>\n",
       "      <td>male</td>\n",
       "      <td>United Kingdom</td>\n",
       "      <td>NaN</td>\n",
       "      <td>United Kingdom</td>\n",
       "      <td>NaN</td>\n",
       "      <td>Supervisor/Team Lead</td>\n",
       "      <td>Sometimes</td>\n",
       "    </tr>\n",
       "    <tr>\n",
       "      <th>4</th>\n",
       "      <td>0</td>\n",
       "      <td>6-25</td>\n",
       "      <td>0.0</td>\n",
       "      <td>1.0</td>\n",
       "      <td>Yes</td>\n",
       "      <td>Yes</td>\n",
       "      <td>No</td>\n",
       "      <td>No</td>\n",
       "      <td>No</td>\n",
       "      <td>Neither easy nor difficult</td>\n",
       "      <td>...</td>\n",
       "      <td>Sometimes</td>\n",
       "      <td>Sometimes</td>\n",
       "      <td>43</td>\n",
       "      <td>Female</td>\n",
       "      <td>United States of America</td>\n",
       "      <td>Illinois</td>\n",
       "      <td>United States of America</td>\n",
       "      <td>Illinois</td>\n",
       "      <td>Executive Leadership|Supervisor/Team Lead|Dev ...</td>\n",
       "      <td>Sometimes</td>\n",
       "    </tr>\n",
       "  </tbody>\n",
       "</table>\n",
       "<p>5 rows × 63 columns</p>\n",
       "</div>"
      ]
     },
     "execution_count": 726,
     "metadata": {},
     "output_type": "execute_result"
    }
   ],
   "execution_count": 726
  },
  {
   "metadata": {},
   "cell_type": "markdown",
   "source": "Step 2: Rename Columns",
   "id": "8ce9680ad76f37c4"
  },
  {
   "metadata": {
    "ExecuteTime": {
     "end_time": "2024-11-05T17:41:45.528733Z",
     "start_time": "2024-11-05T17:41:45.523521Z"
    }
   },
   "cell_type": "code",
   "source": "tech_df.columns",
   "id": "6d8379ba76088d5b",
   "outputs": [
    {
     "data": {
      "text/plain": [
       "Index(['Are you self-employed?',\n",
       "       'How many employees does your company or organization have?',\n",
       "       'Is your employer primarily a tech company/organization?',\n",
       "       'Is your primary role within your company related to tech/IT?',\n",
       "       'Does your employer provide mental health benefits as part of healthcare coverage?',\n",
       "       'Do you know the options for mental health care available under your employer-provided coverage?',\n",
       "       'Has your employer ever formally discussed mental health (for example, as part of a wellness campaign or other official communication)?',\n",
       "       'Does your employer offer resources to learn more about mental health concerns and options for seeking help?',\n",
       "       'Is your anonymity protected if you choose to take advantage of mental health or substance abuse treatment resources provided by your employer?',\n",
       "       'If a mental health issue prompted you to request a medical leave from work, asking for that leave would be:',\n",
       "       'Do you think that discussing a mental health disorder with your employer would have negative consequences?',\n",
       "       'Do you think that discussing a physical health issue with your employer would have negative consequences?',\n",
       "       'Would you feel comfortable discussing a mental health disorder with your coworkers?',\n",
       "       'Would you feel comfortable discussing a mental health disorder with your direct supervisor(s)?',\n",
       "       'Do you feel that your employer takes mental health as seriously as physical health?',\n",
       "       'Have you heard of or observed negative consequences for co-workers who have been open about mental health issues in your workplace?',\n",
       "       'Do you have medical coverage (private insurance or state-provided) which includes treatment of  mental health issues?',\n",
       "       'Do you know local or online resources to seek help for a mental health disorder?',\n",
       "       'If you have been diagnosed or treated for a mental health disorder, do you ever reveal this to clients or business contacts?',\n",
       "       'If you have revealed a mental health issue to a client or business contact, do you believe this has impacted you negatively?',\n",
       "       'If you have been diagnosed or treated for a mental health disorder, do you ever reveal this to coworkers or employees?',\n",
       "       'If you have revealed a mental health issue to a coworker or employee, do you believe this has impacted you negatively?',\n",
       "       'Do you believe your productivity is ever affected by a mental health issue?',\n",
       "       'If yes, what percentage of your work time (time performing primary or secondary job functions) is affected by a mental health issue?',\n",
       "       'Do you have previous employers?',\n",
       "       'Have your previous employers provided mental health benefits?',\n",
       "       'Were you aware of the options for mental health care provided by your previous employers?',\n",
       "       'Did your previous employers ever formally discuss mental health (as part of a wellness campaign or other official communication)?',\n",
       "       'Did your previous employers provide resources to learn more about mental health issues and how to seek help?',\n",
       "       'Was your anonymity protected if you chose to take advantage of mental health or substance abuse treatment resources with previous employers?',\n",
       "       'Do you think that discussing a mental health disorder with previous employers would have negative consequences?',\n",
       "       'Do you think that discussing a physical health issue with previous employers would have negative consequences?',\n",
       "       'Would you have been willing to discuss a mental health issue with your previous co-workers?',\n",
       "       'Would you have been willing to discuss a mental health issue with your direct supervisor(s)?',\n",
       "       'Did you feel that your previous employers took mental health as seriously as physical health?',\n",
       "       'Did you hear of or observe negative consequences for co-workers with mental health issues in your previous workplaces?',\n",
       "       'Would you be willing to bring up a physical health issue with a potential employer in an interview?',\n",
       "       'Why or why not?',\n",
       "       'Would you bring up a mental health issue with a potential employer in an interview?',\n",
       "       'Why or why not?.1',\n",
       "       'Do you feel that being identified as a person with a mental health issue would hurt your career?',\n",
       "       'Do you think that team members/co-workers would view you more negatively if they knew you suffered from a mental health issue?',\n",
       "       'How willing would you be to share with friends and family that you have a mental illness?',\n",
       "       'Have you observed or experienced an unsupportive or badly handled response to a mental health issue in your current or previous workplace?',\n",
       "       'Have your observations of how another individual who discussed a mental health disorder made you less likely to reveal a mental health issue yourself in your current workplace?',\n",
       "       'Do you have a family history of mental illness?',\n",
       "       'Have you had a mental health disorder in the past?',\n",
       "       'Do you currently have a mental health disorder?',\n",
       "       'If yes, what condition(s) have you been diagnosed with?',\n",
       "       'If maybe, what condition(s) do you believe you have?',\n",
       "       'Have you been diagnosed with a mental health condition by a medical professional?',\n",
       "       'If so, what condition(s) were you diagnosed with?',\n",
       "       'Have you ever sought treatment for a mental health issue from a mental health professional?',\n",
       "       'If you have a mental health issue, do you feel that it interferes with your work when being treated effectively?',\n",
       "       'If you have a mental health issue, do you feel that it interferes with your work when NOT being treated effectively?',\n",
       "       'What is your age?', 'What is your gender?',\n",
       "       'What country do you live in?',\n",
       "       'What US state or territory do you live in?',\n",
       "       'What country do you work in?',\n",
       "       'What US state or territory do you work in?',\n",
       "       'Which of the following best describes your work position?',\n",
       "       'Do you work remotely?'],\n",
       "      dtype='object')"
      ]
     },
     "execution_count": 727,
     "metadata": {},
     "output_type": "execute_result"
    }
   ],
   "execution_count": 727
  },
  {
   "metadata": {
    "ExecuteTime": {
     "end_time": "2024-11-05T17:41:45.613615Z",
     "start_time": "2024-11-05T17:41:45.605404Z"
    }
   },
   "cell_type": "code",
   "source": [
    "# Rename the columns to save space and for improved understanding of column meaning.\n",
    "new_column_names = ['self_employed', 'number_of_employees', 'tech_company', 'role_tech_related', 'mental_health_benefits', 'mental_health_coverage_awareness', 'mental_health_offical_communication', \n",
    "                    'mental_health_resources', 'mental_health_anonymity', 'asking_for_leave_for_mental_health', 'discussing_mental_health_with_employer', 'discussing_physical_health_with_employer',\n",
    "                    'discussing_mental_health_with_coworker', 'discussing_mental_health_with_supervisor', 'physical_same_mental', 'neg_consequences_open_mental_health', 'private_state_medical_coverage_w_mental_health', 'online_local_resources_mental_health', 'reveal_mental_diagnoses_clients', 'revealed_diagnoses_clients_negative_consequences',\n",
    "                    'reveal_mental_diagnoses_coworkers_employees', 'revealed_diagnoses_coworkers_negative_consequences', 'productivity_with_mental_health_issue', 'percentage_productivity_with_mental_health_issue', 'previous_employer', 'previous_employer_mental_health_benefits', 'previous_employer_mental_health_coverage_awareness', 'previous_employer_mental_health_official_communication', 'previous_employer_mental_health_resources', 'previous_employer_mental_health_anonymity', 'discussing_mental_health_with_previous_employer', 'discussing_physical_health_with_previous_employer', 'reveal_mental_diagnoses_previous_coworkers', 'reveal_mental_diagnoses_previous_supervisor', 'previous_employer_physical_same_mental', 'previous_employer_neg_consequences_open_mental_health', 'physical_health_interview', 'physical_health_interview_explanation', 'mental_health_interview', 'mental_health_interview_explanation', 'mental_health_career_impact', 'coworkers_perception_of_mental_health', 'share_mental_illness_loved_ones', 'current_or_previous_employment_unsupportive_response_mental_health', 'current_employment_less_likely_to_reveal_mental_health_issue', 'family_history_mental_health', 'past_history_mental_health', 'current_MH_disorder', 'current_diagnosed_MH_disorder', 'believed_MH_disorder', 'at_any_point_diagnosed_MH_disorder', 'name_history_diagnosed_MH_disorder', 'treatment_MH_disorder', 'interference_with_work_with_effective_treatment', 'interference_with_work_NOT_effective_treatment', \n",
    "                    'age', 'gender', 'country_residence', 'US_state_residence', 'country_work', 'US_state_work', 'work_position', 'remote_work']\n",
    "\n",
    "tech_df.columns = new_column_names\n",
    "tech_df.shape"
   ],
   "id": "c8c597681092c838",
   "outputs": [
    {
     "data": {
      "text/plain": [
       "(1433, 63)"
      ]
     },
     "execution_count": 728,
     "metadata": {},
     "output_type": "execute_result"
    }
   ],
   "execution_count": 728
  },
  {
   "metadata": {},
   "cell_type": "markdown",
   "source": [
    "Step 3: Understand missing value patterns to analyze Missing at Random (MAR), Missing Completely at Random (MCAR), Missing Not at Random (MNAR). Replace missing values with appropriate values. \n",
    "\n",
    "- Insert 0 for values where the respondent was not required to answer the question due to the question not being applicable to them from their answer to a previous column. Assumed to be MNAR. (Missing value is dependent on some other variable.)\n",
    "- Insert \"missing\" for missing values where the respondent was required to answer the question but did not. Assumed to be MNAR. (Missing value is dependent on some other variable.)"
   ],
   "id": "97b54c63b88827fc"
  },
  {
   "metadata": {
    "ExecuteTime": {
     "end_time": "2024-11-05T17:41:45.705524Z",
     "start_time": "2024-11-05T17:41:45.697379Z"
    }
   },
   "cell_type": "code",
   "source": [
    "# Understand the patterns of missing values\n",
    "missing_values = tech_df.isnull().sum()\n",
    "missing_values"
   ],
   "id": "e78a4fd301e8f522",
   "outputs": [
    {
     "data": {
      "text/plain": [
       "self_employed                0\n",
       "number_of_employees        287\n",
       "tech_company               287\n",
       "role_tech_related         1170\n",
       "mental_health_benefits     287\n",
       "                          ... \n",
       "US_state_residence         593\n",
       "country_work                 0\n",
       "US_state_work              582\n",
       "work_position                0\n",
       "remote_work                  0\n",
       "Length: 63, dtype: int64"
      ]
     },
     "execution_count": 729,
     "metadata": {},
     "output_type": "execute_result"
    }
   ],
   "execution_count": 729
  },
  {
   "metadata": {
    "ExecuteTime": {
     "end_time": "2024-11-05T17:41:45.788189Z",
     "start_time": "2024-11-05T17:41:45.780261Z"
    }
   },
   "cell_type": "code",
   "source": [
    "# Delete rows and columns related to self-employed workers. Concern for introducing bias and not relevant to the analysis of mental health for a tech related company with multiple employees.  \n",
    "\n",
    "tech_df = tech_df[tech_df['self_employed'] == 0]\n",
    "\n",
    "# These columns were only answered by self-employed workers and not relevant to the remaining dataset.\n",
    "\n",
    "columns_to_delete = ['self_employed', 'online_local_resources_mental_health', 'productivity_with_mental_health_issue', 'revealed_diagnoses_coworkers_negative_consequences', 'private_state_medical_coverage_w_mental_health', 'reveal_mental_diagnoses_coworkers_employees', 'reveal_mental_diagnoses_clients', 'percentage_productivity_with_mental_health_issue', 'revealed_diagnoses_clients_negative_consequences']\n",
    "\n",
    "tech_df = tech_df.drop(columns=columns_to_delete)\n",
    "\n",
    "# Delete columns associated with specific Mental Health Diagnosis. Previous question of Yes or No is sufficient. \n",
    "\n",
    "columns_to_delete = ['current_diagnosed_MH_disorder','name_history_diagnosed_MH_disorder', 'believed_MH_disorder']\n",
    "tech_df = tech_df.drop(columns=columns_to_delete)\n",
    "\n",
    "# Delete columns with explanations for interview questions. Difficulty with one-hot encoding.  I would like to return and try to do some type of categorization for sentiment. \n",
    "\n",
    "columns_to_delete = ['physical_health_interview_explanation', 'mental_health_interview_explanation']\n",
    "tech_df = tech_df.drop(columns=columns_to_delete)\n"
   ],
   "id": "f427b8e4b1807391",
   "outputs": [],
   "execution_count": 730
  },
  {
   "metadata": {
    "ExecuteTime": {
     "end_time": "2024-11-05T17:41:45.878117Z",
     "start_time": "2024-11-05T17:41:45.872287Z"
    }
   },
   "cell_type": "code",
   "source": [
    "# Check value of previous employer = 0 == 131 \n",
    "tech_df['previous_employer'].value_counts()"
   ],
   "id": "1f1ac6f6a4d67076",
   "outputs": [
    {
     "data": {
      "text/plain": [
       "previous_employer\n",
       "1    1015\n",
       "0     131\n",
       "Name: count, dtype: int64"
      ]
     },
     "execution_count": 731,
     "metadata": {},
     "output_type": "execute_result"
    }
   ],
   "execution_count": 731
  },
  {
   "metadata": {
    "ExecuteTime": {
     "end_time": "2024-11-05T17:41:45.936044Z",
     "start_time": "2024-11-05T17:41:45.925459Z"
    }
   },
   "cell_type": "code",
   "source": [
    "\"\"\"\n",
    "Rationale:\n",
    "\n",
    "- All columns related to previous employer replace with \"No Previous Employer\", as not applicable to the 131 people.\n",
    "- US_state_residence, US_state_work: Replace with \"Does not live in the US\", respondents do not live in the US\"\"\"\n",
    "\n",
    "\n",
    "columns_fill_no_previous_employer = ['previous_employer_neg_consequences_open_mental_health', \n",
    "    'discussing_physical_health_with_previous_employer', 'previous_employer_mental_health_resources',\n",
    "    'previous_employer_mental_health_coverage_awareness', 'previous_employer_physical_same_mental',\n",
    "    'previous_employer_mental_health_official_communication', 'previous_employer_mental_health_anonymity',\n",
    "    'discussing_mental_health_with_previous_employer', 'previous_employer_mental_health_benefits',\n",
    "    'reveal_mental_diagnoses_previous_coworkers', 'reveal_mental_diagnoses_previous_supervisor']\n",
    "\n",
    "tech_df[columns_fill_no_previous_employer] = tech_df[columns_fill_no_previous_employer].fillna(\"No Previous Employer\")\n",
    "\n",
    "columns_fill_no_us = ['US_state_residence', 'US_state_work']\n",
    "\n",
    "tech_df[columns_fill_no_us] = tech_df[columns_fill_no_us].fillna(\"Does not live in the US\")"
   ],
   "id": "1b8c2c1fada01b3",
   "outputs": [],
   "execution_count": 732
  },
  {
   "metadata": {
    "ExecuteTime": {
     "end_time": "2024-11-05T17:41:46.023195Z",
     "start_time": "2024-11-05T17:41:46.012716Z"
    }
   },
   "cell_type": "code",
   "source": [
    "\"\"\"\n",
    "Rationale:\n",
    "- Gender: Gender column has 3 missing values. Replace with \"missing\" assumed to be MNAR, and discomfort with answering the question.\n",
    "-current_or_previous_employment_unsupportive_response_mental_health: Replacing with missing as assumed discomfort if they have observed a mental health incident handled poorly. \n",
    "- physical_health_interview_explanation, mental_health_interview_explanation: Replace with \"missing\" as open-ended question not answered.\n",
    "- mental_health_coverage_awareness: Uncertain if replacing with missing is appropriate here, as it does not seem sensitive. But for consistency, replace with missing.\n",
    "-current_employment_less_likely_to_reveal_mental_health_issue: Given current employment, will treat as sensitive information, despite high percentage of missing data %55.\n",
    "\"\"\"\n",
    "\n",
    "# Replace missing values in columns with 'missing'\n",
    "\n",
    "columns_missing = ['gender', 'current_or_previous_employment_unsupportive_response_mental_health', 'mental_health_coverage_awareness', 'current_employment_less_likely_to_reveal_mental_health_issue']\n",
    "\n",
    "tech_df[columns_missing] = tech_df[columns_missing].fillna('Missing')\n",
    "\n",
    "#'physical_health_interview_explanation', 'mental_health_interview_explanation' (Removed from list)"
   ],
   "id": "b95eb93d2a2ece22",
   "outputs": [],
   "execution_count": 733
  },
  {
   "metadata": {
    "ExecuteTime": {
     "end_time": "2024-11-05T17:41:46.106993Z",
     "start_time": "2024-11-05T17:41:46.102033Z"
    }
   },
   "cell_type": "code",
   "source": [
    "#### This section of code is for whether or not to keep the diagnoses. \n",
    "\"\"\"# Based on answers from previous columns, replace missing values with 'Not applicable'. MNAR. Should not have an answer.\n",
    "\n",
    "tech_df.loc[tech_df['at_any_point_diagnosed_MH_disorder'] == 'No', 'name_history_diagnosed_MH_disorder'] = \\\n",
    "(tech_df['name_history_diagnosed_MH_disorder'].fillna('Not applicable.'))\n",
    "\n",
    "tech_df.loc[\n",
    "    (tech_df['current_MH_disorder'] == 'No') |\n",
    "    (tech_df['current_MH_disorder'] == 'Maybe'),\n",
    "    'current_diagnosed_MH_disorder'] = tech_df['current_diagnosed_MH_disorder'].fillna('Not applicable.')\n",
    "\n",
    "tech_df.loc[\n",
    "    (tech_df['current_MH_disorder'] == 'No') |\n",
    "    (tech_df['current_MH_disorder'] == 'Yes'),\n",
    "    'believed_MH_disorder'] = tech_df['believed_MH_disorder'].fillna('Not applicable.')\n",
    "\n",
    "# Columns with some remaining missing values. Replace with 'missing' as sensitive information.\n",
    "\n",
    "columns_missing = ['believed_MH_disorder','name_history_diagnosed_MH_disorder',\n",
    "                   'current_diagnosed_MH_disorder']\n",
    "\n",
    "tech_df[columns_missing] = tech_df[columns_missing].fillna('Missing')\"\"\"\n",
    "\n"
   ],
   "id": "e532e004ada37fff",
   "outputs": [
    {
     "data": {
      "text/plain": [
       "\"# Based on answers from previous columns, replace missing values with 'Not applicable'. MNAR. Should not have an answer.\\n\\ntech_df.loc[tech_df['at_any_point_diagnosed_MH_disorder'] == 'No', 'name_history_diagnosed_MH_disorder'] = (tech_df['name_history_diagnosed_MH_disorder'].fillna('Not applicable.'))\\n\\ntech_df.loc[\\n    (tech_df['current_MH_disorder'] == 'No') |\\n    (tech_df['current_MH_disorder'] == 'Maybe'),\\n    'current_diagnosed_MH_disorder'] = tech_df['current_diagnosed_MH_disorder'].fillna('Not applicable.')\\n\\ntech_df.loc[\\n    (tech_df['current_MH_disorder'] == 'No') |\\n    (tech_df['current_MH_disorder'] == 'Yes'),\\n    'believed_MH_disorder'] = tech_df['believed_MH_disorder'].fillna('Not applicable.')\\n\\n# Columns with some remaining missing values. Replace with 'missing' as sensitive information.\\n\\ncolumns_missing = ['believed_MH_disorder','name_history_diagnosed_MH_disorder',\\n                   'current_diagnosed_MH_disorder']\\n\\ntech_df[columns_missing] = tech_df[columns_missing].fillna('Missing')\""
      ]
     },
     "execution_count": 734,
     "metadata": {},
     "output_type": "execute_result"
    }
   ],
   "execution_count": 734
  },
  {
   "metadata": {
    "ExecuteTime": {
     "end_time": "2024-11-05T17:41:46.189816Z",
     "start_time": "2024-11-05T17:41:46.172790Z"
    }
   },
   "cell_type": "code",
   "source": [
    "# Calculate percentage of missing values in the dataset\n",
    "\n",
    "missing_percentage = tech_df.isnull().sum()/ len(tech_df) * 100\n",
    "missing_percentage"
   ],
   "id": "9076d8099525f66e",
   "outputs": [
    {
     "data": {
      "text/plain": [
       "number_of_employees                                                    0.000000\n",
       "tech_company                                                           0.000000\n",
       "role_tech_related                                                     77.050611\n",
       "mental_health_benefits                                                 0.000000\n",
       "mental_health_coverage_awareness                                       0.000000\n",
       "mental_health_offical_communication                                    0.000000\n",
       "mental_health_resources                                                0.000000\n",
       "mental_health_anonymity                                                0.000000\n",
       "asking_for_leave_for_mental_health                                     0.000000\n",
       "discussing_mental_health_with_employer                                 0.000000\n",
       "discussing_physical_health_with_employer                               0.000000\n",
       "discussing_mental_health_with_coworker                                 0.000000\n",
       "discussing_mental_health_with_supervisor                               0.000000\n",
       "physical_same_mental                                                   0.000000\n",
       "neg_consequences_open_mental_health                                    0.000000\n",
       "previous_employer                                                      0.000000\n",
       "previous_employer_mental_health_benefits                               0.000000\n",
       "previous_employer_mental_health_coverage_awareness                     0.000000\n",
       "previous_employer_mental_health_official_communication                 0.000000\n",
       "previous_employer_mental_health_resources                              0.000000\n",
       "previous_employer_mental_health_anonymity                              0.000000\n",
       "discussing_mental_health_with_previous_employer                        0.000000\n",
       "discussing_physical_health_with_previous_employer                      0.000000\n",
       "reveal_mental_diagnoses_previous_coworkers                             0.000000\n",
       "reveal_mental_diagnoses_previous_supervisor                            0.000000\n",
       "previous_employer_physical_same_mental                                 0.000000\n",
       "previous_employer_neg_consequences_open_mental_health                  0.000000\n",
       "physical_health_interview                                              0.000000\n",
       "mental_health_interview                                                0.000000\n",
       "mental_health_career_impact                                            0.000000\n",
       "coworkers_perception_of_mental_health                                  0.000000\n",
       "share_mental_illness_loved_ones                                        0.000000\n",
       "current_or_previous_employment_unsupportive_response_mental_health     0.000000\n",
       "current_employment_less_likely_to_reveal_mental_health_issue           0.000000\n",
       "family_history_mental_health                                           0.000000\n",
       "past_history_mental_health                                             0.000000\n",
       "current_MH_disorder                                                    0.000000\n",
       "at_any_point_diagnosed_MH_disorder                                     0.000000\n",
       "treatment_MH_disorder                                                  0.000000\n",
       "interference_with_work_with_effective_treatment                        0.000000\n",
       "interference_with_work_NOT_effective_treatment                         0.000000\n",
       "age                                                                    0.000000\n",
       "gender                                                                 0.000000\n",
       "country_residence                                                      0.000000\n",
       "US_state_residence                                                     0.000000\n",
       "country_work                                                           0.000000\n",
       "US_state_work                                                          0.000000\n",
       "work_position                                                          0.000000\n",
       "remote_work                                                            0.000000\n",
       "dtype: float64"
      ]
     },
     "execution_count": 735,
     "metadata": {},
     "output_type": "execute_result"
    }
   ],
   "execution_count": 735
  },
  {
   "metadata": {
    "ExecuteTime": {
     "end_time": "2024-11-05T17:41:46.251979Z",
     "start_time": "2024-11-05T17:41:46.245249Z"
    }
   },
   "cell_type": "code",
   "source": [
    "# Drop column with greater than 70% missing values and not relevant to the analysis.\n",
    "\n",
    "tech_df = tech_df.drop(columns='role_tech_related')\n",
    "tech_df.shape"
   ],
   "id": "707654809b894713",
   "outputs": [
    {
     "data": {
      "text/plain": [
       "(1146, 48)"
      ]
     },
     "execution_count": 736,
     "metadata": {},
     "output_type": "execute_result"
    }
   ],
   "execution_count": 736
  },
  {
   "metadata": {
    "ExecuteTime": {
     "end_time": "2024-11-05T17:41:46.331218Z",
     "start_time": "2024-11-05T17:41:46.323514Z"
    }
   },
   "cell_type": "code",
   "source": [
    "# Verify the dataset has no missing values\n",
    "tech_df.isnull().sum().sum()"
   ],
   "id": "40a40fedb932d1d0",
   "outputs": [
    {
     "data": {
      "text/plain": [
       "0"
      ]
     },
     "execution_count": 737,
     "metadata": {},
     "output_type": "execute_result"
    }
   ],
   "execution_count": 737
  },
  {
   "metadata": {},
   "cell_type": "markdown",
   "source": "Step 4: Manage unique values and outliers, to add encoding and categorization.",
   "id": "440d563a73e80a05"
  },
  {
   "metadata": {
    "ExecuteTime": {
     "end_time": "2024-11-05T17:41:46.423022Z",
     "start_time": "2024-11-05T17:41:46.363268Z"
    }
   },
   "cell_type": "code",
   "source": "tech_df.describe(include='all')",
   "id": "dcf2a5bb1701ea2e",
   "outputs": [
    {
     "data": {
      "text/plain": [
       "       number_of_employees  tech_company mental_health_benefits  \\\n",
       "count                 1146   1146.000000                   1146   \n",
       "unique                   6           NaN                      4   \n",
       "top                 26-100           NaN                    Yes   \n",
       "freq                   292           NaN                    531   \n",
       "mean                   NaN      0.770506                    NaN   \n",
       "std                    NaN      0.420691                    NaN   \n",
       "min                    NaN      0.000000                    NaN   \n",
       "25%                    NaN      1.000000                    NaN   \n",
       "50%                    NaN      1.000000                    NaN   \n",
       "75%                    NaN      1.000000                    NaN   \n",
       "max                    NaN      1.000000                    NaN   \n",
       "\n",
       "       mental_health_coverage_awareness mental_health_offical_communication  \\\n",
       "count                              1146                                1146   \n",
       "unique                                4                                   3   \n",
       "top                                  No                                  No   \n",
       "freq                                354                                 813   \n",
       "mean                                NaN                                 NaN   \n",
       "std                                 NaN                                 NaN   \n",
       "min                                 NaN                                 NaN   \n",
       "25%                                 NaN                                 NaN   \n",
       "50%                                 NaN                                 NaN   \n",
       "75%                                 NaN                                 NaN   \n",
       "max                                 NaN                                 NaN   \n",
       "\n",
       "       mental_health_resources mental_health_anonymity  \\\n",
       "count                     1146                    1146   \n",
       "unique                       3                       3   \n",
       "top                         No            I don't know   \n",
       "freq                       531                     742   \n",
       "mean                       NaN                     NaN   \n",
       "std                        NaN                     NaN   \n",
       "min                        NaN                     NaN   \n",
       "25%                        NaN                     NaN   \n",
       "50%                        NaN                     NaN   \n",
       "75%                        NaN                     NaN   \n",
       "max                        NaN                     NaN   \n",
       "\n",
       "       asking_for_leave_for_mental_health  \\\n",
       "count                                1146   \n",
       "unique                                  6   \n",
       "top                         Somewhat easy   \n",
       "freq                                  281   \n",
       "mean                                  NaN   \n",
       "std                                   NaN   \n",
       "min                                   NaN   \n",
       "25%                                   NaN   \n",
       "50%                                   NaN   \n",
       "75%                                   NaN   \n",
       "max                                   NaN   \n",
       "\n",
       "       discussing_mental_health_with_employer  \\\n",
       "count                                    1146   \n",
       "unique                                      3   \n",
       "top                                     Maybe   \n",
       "freq                                      487   \n",
       "mean                                      NaN   \n",
       "std                                       NaN   \n",
       "min                                       NaN   \n",
       "25%                                       NaN   \n",
       "50%                                       NaN   \n",
       "75%                                       NaN   \n",
       "max                                       NaN   \n",
       "\n",
       "       discussing_physical_health_with_employer  ...  \\\n",
       "count                                      1146  ...   \n",
       "unique                                        3  ...   \n",
       "top                                          No  ...   \n",
       "freq                                        837  ...   \n",
       "mean                                        NaN  ...   \n",
       "std                                         NaN  ...   \n",
       "min                                         NaN  ...   \n",
       "25%                                         NaN  ...   \n",
       "50%                                         NaN  ...   \n",
       "75%                                         NaN  ...   \n",
       "max                                         NaN  ...   \n",
       "\n",
       "       interference_with_work_with_effective_treatment  \\\n",
       "count                                             1146   \n",
       "unique                                               5   \n",
       "top                               Not applicable to me   \n",
       "freq                                               455   \n",
       "mean                                               NaN   \n",
       "std                                                NaN   \n",
       "min                                                NaN   \n",
       "25%                                                NaN   \n",
       "50%                                                NaN   \n",
       "75%                                                NaN   \n",
       "max                                                NaN   \n",
       "\n",
       "       interference_with_work_NOT_effective_treatment          age gender  \\\n",
       "count                                            1146  1146.000000   1146   \n",
       "unique                                              5          NaN     62   \n",
       "top                                             Often          NaN   Male   \n",
       "freq                                              422          NaN    505   \n",
       "mean                                              NaN    33.655323    NaN   \n",
       "std                                               NaN    11.703277    NaN   \n",
       "min                                               NaN     3.000000    NaN   \n",
       "25%                                               NaN    28.000000    NaN   \n",
       "50%                                               NaN    32.000000    NaN   \n",
       "75%                                               NaN    38.000000    NaN   \n",
       "max                                               NaN   323.000000    NaN   \n",
       "\n",
       "               country_residence       US_state_residence  \\\n",
       "count                       1146                     1146   \n",
       "unique                        43                       48   \n",
       "top     United States of America  Does not live in the US   \n",
       "freq                         709                      437   \n",
       "mean                         NaN                      NaN   \n",
       "std                          NaN                      NaN   \n",
       "min                          NaN                      NaN   \n",
       "25%                          NaN                      NaN   \n",
       "50%                          NaN                      NaN   \n",
       "75%                          NaN                      NaN   \n",
       "max                          NaN                      NaN   \n",
       "\n",
       "                    country_work            US_state_work       work_position  \\\n",
       "count                       1146                     1146                1146   \n",
       "unique                        44                       49                 180   \n",
       "top     United States of America  Does not live in the US  Back-end Developer   \n",
       "freq                         716                      430                 238   \n",
       "mean                         NaN                      NaN                 NaN   \n",
       "std                          NaN                      NaN                 NaN   \n",
       "min                          NaN                      NaN                 NaN   \n",
       "25%                          NaN                      NaN                 NaN   \n",
       "50%                          NaN                      NaN                 NaN   \n",
       "75%                          NaN                      NaN                 NaN   \n",
       "max                          NaN                      NaN                 NaN   \n",
       "\n",
       "       remote_work  \n",
       "count         1146  \n",
       "unique           3  \n",
       "top      Sometimes  \n",
       "freq           611  \n",
       "mean           NaN  \n",
       "std            NaN  \n",
       "min            NaN  \n",
       "25%            NaN  \n",
       "50%            NaN  \n",
       "75%            NaN  \n",
       "max            NaN  \n",
       "\n",
       "[11 rows x 48 columns]"
      ],
      "text/html": [
       "<div>\n",
       "<style scoped>\n",
       "    .dataframe tbody tr th:only-of-type {\n",
       "        vertical-align: middle;\n",
       "    }\n",
       "\n",
       "    .dataframe tbody tr th {\n",
       "        vertical-align: top;\n",
       "    }\n",
       "\n",
       "    .dataframe thead th {\n",
       "        text-align: right;\n",
       "    }\n",
       "</style>\n",
       "<table border=\"1\" class=\"dataframe\">\n",
       "  <thead>\n",
       "    <tr style=\"text-align: right;\">\n",
       "      <th></th>\n",
       "      <th>number_of_employees</th>\n",
       "      <th>tech_company</th>\n",
       "      <th>mental_health_benefits</th>\n",
       "      <th>mental_health_coverage_awareness</th>\n",
       "      <th>mental_health_offical_communication</th>\n",
       "      <th>mental_health_resources</th>\n",
       "      <th>mental_health_anonymity</th>\n",
       "      <th>asking_for_leave_for_mental_health</th>\n",
       "      <th>discussing_mental_health_with_employer</th>\n",
       "      <th>discussing_physical_health_with_employer</th>\n",
       "      <th>...</th>\n",
       "      <th>interference_with_work_with_effective_treatment</th>\n",
       "      <th>interference_with_work_NOT_effective_treatment</th>\n",
       "      <th>age</th>\n",
       "      <th>gender</th>\n",
       "      <th>country_residence</th>\n",
       "      <th>US_state_residence</th>\n",
       "      <th>country_work</th>\n",
       "      <th>US_state_work</th>\n",
       "      <th>work_position</th>\n",
       "      <th>remote_work</th>\n",
       "    </tr>\n",
       "  </thead>\n",
       "  <tbody>\n",
       "    <tr>\n",
       "      <th>count</th>\n",
       "      <td>1146</td>\n",
       "      <td>1146.000000</td>\n",
       "      <td>1146</td>\n",
       "      <td>1146</td>\n",
       "      <td>1146</td>\n",
       "      <td>1146</td>\n",
       "      <td>1146</td>\n",
       "      <td>1146</td>\n",
       "      <td>1146</td>\n",
       "      <td>1146</td>\n",
       "      <td>...</td>\n",
       "      <td>1146</td>\n",
       "      <td>1146</td>\n",
       "      <td>1146.000000</td>\n",
       "      <td>1146</td>\n",
       "      <td>1146</td>\n",
       "      <td>1146</td>\n",
       "      <td>1146</td>\n",
       "      <td>1146</td>\n",
       "      <td>1146</td>\n",
       "      <td>1146</td>\n",
       "    </tr>\n",
       "    <tr>\n",
       "      <th>unique</th>\n",
       "      <td>6</td>\n",
       "      <td>NaN</td>\n",
       "      <td>4</td>\n",
       "      <td>4</td>\n",
       "      <td>3</td>\n",
       "      <td>3</td>\n",
       "      <td>3</td>\n",
       "      <td>6</td>\n",
       "      <td>3</td>\n",
       "      <td>3</td>\n",
       "      <td>...</td>\n",
       "      <td>5</td>\n",
       "      <td>5</td>\n",
       "      <td>NaN</td>\n",
       "      <td>62</td>\n",
       "      <td>43</td>\n",
       "      <td>48</td>\n",
       "      <td>44</td>\n",
       "      <td>49</td>\n",
       "      <td>180</td>\n",
       "      <td>3</td>\n",
       "    </tr>\n",
       "    <tr>\n",
       "      <th>top</th>\n",
       "      <td>26-100</td>\n",
       "      <td>NaN</td>\n",
       "      <td>Yes</td>\n",
       "      <td>No</td>\n",
       "      <td>No</td>\n",
       "      <td>No</td>\n",
       "      <td>I don't know</td>\n",
       "      <td>Somewhat easy</td>\n",
       "      <td>Maybe</td>\n",
       "      <td>No</td>\n",
       "      <td>...</td>\n",
       "      <td>Not applicable to me</td>\n",
       "      <td>Often</td>\n",
       "      <td>NaN</td>\n",
       "      <td>Male</td>\n",
       "      <td>United States of America</td>\n",
       "      <td>Does not live in the US</td>\n",
       "      <td>United States of America</td>\n",
       "      <td>Does not live in the US</td>\n",
       "      <td>Back-end Developer</td>\n",
       "      <td>Sometimes</td>\n",
       "    </tr>\n",
       "    <tr>\n",
       "      <th>freq</th>\n",
       "      <td>292</td>\n",
       "      <td>NaN</td>\n",
       "      <td>531</td>\n",
       "      <td>354</td>\n",
       "      <td>813</td>\n",
       "      <td>531</td>\n",
       "      <td>742</td>\n",
       "      <td>281</td>\n",
       "      <td>487</td>\n",
       "      <td>837</td>\n",
       "      <td>...</td>\n",
       "      <td>455</td>\n",
       "      <td>422</td>\n",
       "      <td>NaN</td>\n",
       "      <td>505</td>\n",
       "      <td>709</td>\n",
       "      <td>437</td>\n",
       "      <td>716</td>\n",
       "      <td>430</td>\n",
       "      <td>238</td>\n",
       "      <td>611</td>\n",
       "    </tr>\n",
       "    <tr>\n",
       "      <th>mean</th>\n",
       "      <td>NaN</td>\n",
       "      <td>0.770506</td>\n",
       "      <td>NaN</td>\n",
       "      <td>NaN</td>\n",
       "      <td>NaN</td>\n",
       "      <td>NaN</td>\n",
       "      <td>NaN</td>\n",
       "      <td>NaN</td>\n",
       "      <td>NaN</td>\n",
       "      <td>NaN</td>\n",
       "      <td>...</td>\n",
       "      <td>NaN</td>\n",
       "      <td>NaN</td>\n",
       "      <td>33.655323</td>\n",
       "      <td>NaN</td>\n",
       "      <td>NaN</td>\n",
       "      <td>NaN</td>\n",
       "      <td>NaN</td>\n",
       "      <td>NaN</td>\n",
       "      <td>NaN</td>\n",
       "      <td>NaN</td>\n",
       "    </tr>\n",
       "    <tr>\n",
       "      <th>std</th>\n",
       "      <td>NaN</td>\n",
       "      <td>0.420691</td>\n",
       "      <td>NaN</td>\n",
       "      <td>NaN</td>\n",
       "      <td>NaN</td>\n",
       "      <td>NaN</td>\n",
       "      <td>NaN</td>\n",
       "      <td>NaN</td>\n",
       "      <td>NaN</td>\n",
       "      <td>NaN</td>\n",
       "      <td>...</td>\n",
       "      <td>NaN</td>\n",
       "      <td>NaN</td>\n",
       "      <td>11.703277</td>\n",
       "      <td>NaN</td>\n",
       "      <td>NaN</td>\n",
       "      <td>NaN</td>\n",
       "      <td>NaN</td>\n",
       "      <td>NaN</td>\n",
       "      <td>NaN</td>\n",
       "      <td>NaN</td>\n",
       "    </tr>\n",
       "    <tr>\n",
       "      <th>min</th>\n",
       "      <td>NaN</td>\n",
       "      <td>0.000000</td>\n",
       "      <td>NaN</td>\n",
       "      <td>NaN</td>\n",
       "      <td>NaN</td>\n",
       "      <td>NaN</td>\n",
       "      <td>NaN</td>\n",
       "      <td>NaN</td>\n",
       "      <td>NaN</td>\n",
       "      <td>NaN</td>\n",
       "      <td>...</td>\n",
       "      <td>NaN</td>\n",
       "      <td>NaN</td>\n",
       "      <td>3.000000</td>\n",
       "      <td>NaN</td>\n",
       "      <td>NaN</td>\n",
       "      <td>NaN</td>\n",
       "      <td>NaN</td>\n",
       "      <td>NaN</td>\n",
       "      <td>NaN</td>\n",
       "      <td>NaN</td>\n",
       "    </tr>\n",
       "    <tr>\n",
       "      <th>25%</th>\n",
       "      <td>NaN</td>\n",
       "      <td>1.000000</td>\n",
       "      <td>NaN</td>\n",
       "      <td>NaN</td>\n",
       "      <td>NaN</td>\n",
       "      <td>NaN</td>\n",
       "      <td>NaN</td>\n",
       "      <td>NaN</td>\n",
       "      <td>NaN</td>\n",
       "      <td>NaN</td>\n",
       "      <td>...</td>\n",
       "      <td>NaN</td>\n",
       "      <td>NaN</td>\n",
       "      <td>28.000000</td>\n",
       "      <td>NaN</td>\n",
       "      <td>NaN</td>\n",
       "      <td>NaN</td>\n",
       "      <td>NaN</td>\n",
       "      <td>NaN</td>\n",
       "      <td>NaN</td>\n",
       "      <td>NaN</td>\n",
       "    </tr>\n",
       "    <tr>\n",
       "      <th>50%</th>\n",
       "      <td>NaN</td>\n",
       "      <td>1.000000</td>\n",
       "      <td>NaN</td>\n",
       "      <td>NaN</td>\n",
       "      <td>NaN</td>\n",
       "      <td>NaN</td>\n",
       "      <td>NaN</td>\n",
       "      <td>NaN</td>\n",
       "      <td>NaN</td>\n",
       "      <td>NaN</td>\n",
       "      <td>...</td>\n",
       "      <td>NaN</td>\n",
       "      <td>NaN</td>\n",
       "      <td>32.000000</td>\n",
       "      <td>NaN</td>\n",
       "      <td>NaN</td>\n",
       "      <td>NaN</td>\n",
       "      <td>NaN</td>\n",
       "      <td>NaN</td>\n",
       "      <td>NaN</td>\n",
       "      <td>NaN</td>\n",
       "    </tr>\n",
       "    <tr>\n",
       "      <th>75%</th>\n",
       "      <td>NaN</td>\n",
       "      <td>1.000000</td>\n",
       "      <td>NaN</td>\n",
       "      <td>NaN</td>\n",
       "      <td>NaN</td>\n",
       "      <td>NaN</td>\n",
       "      <td>NaN</td>\n",
       "      <td>NaN</td>\n",
       "      <td>NaN</td>\n",
       "      <td>NaN</td>\n",
       "      <td>...</td>\n",
       "      <td>NaN</td>\n",
       "      <td>NaN</td>\n",
       "      <td>38.000000</td>\n",
       "      <td>NaN</td>\n",
       "      <td>NaN</td>\n",
       "      <td>NaN</td>\n",
       "      <td>NaN</td>\n",
       "      <td>NaN</td>\n",
       "      <td>NaN</td>\n",
       "      <td>NaN</td>\n",
       "    </tr>\n",
       "    <tr>\n",
       "      <th>max</th>\n",
       "      <td>NaN</td>\n",
       "      <td>1.000000</td>\n",
       "      <td>NaN</td>\n",
       "      <td>NaN</td>\n",
       "      <td>NaN</td>\n",
       "      <td>NaN</td>\n",
       "      <td>NaN</td>\n",
       "      <td>NaN</td>\n",
       "      <td>NaN</td>\n",
       "      <td>NaN</td>\n",
       "      <td>...</td>\n",
       "      <td>NaN</td>\n",
       "      <td>NaN</td>\n",
       "      <td>323.000000</td>\n",
       "      <td>NaN</td>\n",
       "      <td>NaN</td>\n",
       "      <td>NaN</td>\n",
       "      <td>NaN</td>\n",
       "      <td>NaN</td>\n",
       "      <td>NaN</td>\n",
       "      <td>NaN</td>\n",
       "    </tr>\n",
       "  </tbody>\n",
       "</table>\n",
       "<p>11 rows × 48 columns</p>\n",
       "</div>"
      ]
     },
     "execution_count": 738,
     "metadata": {},
     "output_type": "execute_result"
    }
   ],
   "execution_count": 738
  },
  {
   "metadata": {
    "ExecuteTime": {
     "end_time": "2024-11-05T17:41:46.609728Z",
     "start_time": "2024-11-05T17:41:46.513024Z"
    }
   },
   "cell_type": "code",
   "source": [
    "# Check for age outliers\n",
    "sns.boxplot(tech_df['age'])"
   ],
   "id": "fcddbb35aaf2fcb2",
   "outputs": [
    {
     "data": {
      "text/plain": [
       "<Axes: ylabel='age'>"
      ]
     },
     "execution_count": 739,
     "metadata": {},
     "output_type": "execute_result"
    },
    {
     "data": {
      "text/plain": [
       "<Figure size 640x480 with 1 Axes>"
      ],
      "image/png": "[encoded data removed]"
     },
     "metadata": {},
     "output_type": "display_data"
    }
   ],
   "execution_count": 739
  },
  {
   "metadata": {},
   "cell_type": "markdown",
   "source": "- There are several outliers in the age column. I will look at the quantile data to decide where the top and bottom cap should be, and then replace the outliers ....",
   "id": "1c11f3dce3bfff6"
  },
  {
   "metadata": {
    "ExecuteTime": {
     "end_time": "2024-11-05T17:41:46.662463Z",
     "start_time": "2024-11-05T17:41:46.656627Z"
    }
   },
   "cell_type": "code",
   "source": "tech_df['age'].value_counts()",
   "id": "b769b26cfd2c189e",
   "outputs": [
    {
     "data": {
      "text/plain": [
       "age\n",
       "30     77\n",
       "28     66\n",
       "31     64\n",
       "29     63\n",
       "32     62\n",
       "26     58\n",
       "35     58\n",
       "33     56\n",
       "27     55\n",
       "34     53\n",
       "37     46\n",
       "36     44\n",
       "39     41\n",
       "24     39\n",
       "38     39\n",
       "25     36\n",
       "40     30\n",
       "22     28\n",
       "23     24\n",
       "45     22\n",
       "44     21\n",
       "42     21\n",
       "43     21\n",
       "41     20\n",
       "46     16\n",
       "21     13\n",
       "47     11\n",
       "49      8\n",
       "52      6\n",
       "20      5\n",
       "55      5\n",
       "51      5\n",
       "48      5\n",
       "50      4\n",
       "57      3\n",
       "19      2\n",
       "63      2\n",
       "54      2\n",
       "56      2\n",
       "53      2\n",
       "74      1\n",
       "59      1\n",
       "3       1\n",
       "66      1\n",
       "17      1\n",
       "58      1\n",
       "62      1\n",
       "323     1\n",
       "61      1\n",
       "99      1\n",
       "70      1\n",
       "Name: count, dtype: int64"
      ]
     },
     "execution_count": 740,
     "metadata": {},
     "output_type": "execute_result"
    }
   ],
   "execution_count": 740
  },
  {
   "metadata": {
    "ExecuteTime": {
     "end_time": "2024-11-05T17:41:46.733300Z",
     "start_time": "2024-11-05T17:41:46.728484Z"
    }
   },
   "cell_type": "code",
   "source": [
    "\n",
    "median_age = tech_df['age'].median()\n",
    "median_age"
   ],
   "id": "2233e2df516f7cb5",
   "outputs": [
    {
     "data": {
      "text/plain": [
       "32.0"
      ]
     },
     "execution_count": 741,
     "metadata": {},
     "output_type": "execute_result"
    }
   ],
   "execution_count": 741
  },
  {
   "metadata": {
    "ExecuteTime": {
     "end_time": "2024-11-05T17:41:46.820555Z",
     "start_time": "2024-11-05T17:41:46.808552Z"
    }
   },
   "cell_type": "code",
   "source": [
    "# Age has outlier values of 323, 99, 3 which are not logical in terms of employment age\n",
    "# Due to sensitivity of PCA and KMeans to outliers, will replace with the median value of 32.\n",
    "tech_df.replace(to_replace=[323, 99, 3], value=median_age, inplace=True)"
   ],
   "id": "4f926d170d2417a8",
   "outputs": [],
   "execution_count": 742
  },
  {
   "metadata": {
    "ExecuteTime": {
     "end_time": "2024-11-05T17:41:46.855268Z",
     "start_time": "2024-11-05T17:41:46.848757Z"
    }
   },
   "cell_type": "code",
   "source": [
    "# Gender should have 3 categories: Male, Female, Other (Non-Binary). There are 62 unique values. \n",
    "# Categorize unique values into 3 categories and replace values.\n",
    "tech_df['gender'].value_counts()"
   ],
   "id": "d3971ccaf659fbc2",
   "outputs": [
    {
     "data": {
      "text/plain": [
       "gender\n",
       "Male                     505\n",
       "male                     195\n",
       "Female                   121\n",
       "female                    79\n",
       "M                         69\n",
       "                        ... \n",
       "Man                        1\n",
       "Sex is male                1\n",
       "none of your business      1\n",
       "genderqueer                1\n",
       "Transgender woman          1\n",
       "Name: count, Length: 62, dtype: int64"
      ]
     },
     "execution_count": 743,
     "metadata": {},
     "output_type": "execute_result"
    }
   ],
   "execution_count": 743
  },
  {
   "metadata": {
    "ExecuteTime": {
     "end_time": "2024-11-05T17:41:46.916352Z",
     "start_time": "2024-11-05T17:41:46.900928Z"
    }
   },
   "cell_type": "code",
   "source": [
    "# Replace current unique values with standardized values: Male, Female, Other(Non-Binary) using a dictionary\n",
    "\n",
    "# Leading or trailing spaces in some values.\n",
    "\n",
    "tech_df['gender'] = tech_df['gender'].str.strip()\n",
    "\n",
    "male = [\n",
    "    'Male', 'male', 'M', 'm', 'Male (cis)', 'man', 'Dude', 'mail', 'Cis Male', 'cisdude', 'cis man', 'Cis male', 'cis male', 'Male.', 'Man', 'Sex is male']\n",
    "\n",
    "female = ['Female', 'female', 'F', 'f', 'woman', 'Woman', 'fem', \n",
    "          'Female (props for making this a freeform field, though)','Cis-woman', 'female/woman', 'I identify as female.', 'Female assigned at birth', 'fm', 'Cis female', 'Cisgender Female', 'female-bodied; no feelings about gender']\n",
    "\n",
    "other = ['non-binary', 'Missing', 'Agender', 'Queer', 'genderqueer woman', 'Male/genderqueer', 'Nonbinary',\n",
    "         'Genderfluid', 'Genderqueer', 'Genderflux demi-girl', 'Enby', 'nb masculine', 'Human', 'Bigender', 'Transitioned, M2F', 'Genderfluid (born female)', 'Other/Transfeminine', 'Female or Multi-Gender Femme', 'Androgynous', 'male 9:1 female, roughly', 'Other', 'none of your business', 'genderqueer', 'Transgender woman', 'Male (trans, FtM)']\n",
    "\n",
    "#Use a dictionary to replace the values\n",
    "\n",
    "# Create a dictionary that maps each list entry to its category\n",
    "gender_map = {**{val: 'Male' for val in male},\n",
    "              **{val: 'Female' for val in female},\n",
    "              **{val: 'Other/Non-Binary' for val in other}}\n",
    "\n",
    "# Use .replace() with the mapping dictionary\n",
    "tech_df['gender'] = tech_df['gender'].replace(gender_map)\n",
    "\n",
    "# Verify the replacements\n",
    "print(tech_df['gender'].value_counts())\n",
    "\n"
   ],
   "id": "6bb1d1dea4dfacc2",
   "outputs": [
    {
     "name": "stdout",
     "output_type": "stream",
     "text": [
      "gender\n",
      "Male                846\n",
      "Female              269\n",
      "Other/Non-Binary     31\n",
      "Name: count, dtype: int64\n"
     ]
    }
   ],
   "execution_count": 744
  },
  {
   "metadata": {
    "ExecuteTime": {
     "end_time": "2024-11-05T17:41:47.049787Z",
     "start_time": "2024-11-05T17:41:47.045231Z"
    }
   },
   "cell_type": "code",
   "source": "tech_df.shape",
   "id": "d03280f0727b9dfe",
   "outputs": [
    {
     "data": {
      "text/plain": [
       "(1146, 48)"
      ]
     },
     "execution_count": 745,
     "metadata": {},
     "output_type": "execute_result"
    }
   ],
   "execution_count": 745
  },
  {
   "metadata": {
    "ExecuteTime": {
     "end_time": "2024-11-05T17:41:47.185994Z",
     "start_time": "2024-11-05T17:41:47.150788Z"
    }
   },
   "cell_type": "code",
   "source": "tech_df.to_csv('tech_df_cleaned.csv')",
   "id": "eb1b7df7fa00b98d",
   "outputs": [],
   "execution_count": 746
  }
 ],
 "metadata": {
  "kernelspec": {
   "display_name": "Python 3",
   "language": "python",
   "name": "python3"
  },
  "language_info": {
   "codemirror_mode": {
    "name": "ipython",
    "version": 2
   },
   "file_extension": ".py",
   "mimetype": "text/x-python",
   "name": "python",
   "nbconvert_exporter": "python",
   "pygments_lexer": "ipython2",
   "version": "2.7.6"
  }
 },
 "nbformat": 4,
 "nbformat_minor": 5
}
