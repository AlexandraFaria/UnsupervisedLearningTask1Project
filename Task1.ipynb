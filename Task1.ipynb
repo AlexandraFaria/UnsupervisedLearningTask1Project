{
 "cells": [
  {
   "metadata": {},
   "cell_type": "markdown",
   "source": [
    "This notebook is for Task 1: Mental Health in Technology-related jobs. \n",
    "Throughout this notebook I will document the required steps to complete this data analysis task and the unsupervised machine learning model utilized. "
   ],
   "id": "73836502681c687f"
  },
  {
   "metadata": {},
   "cell_type": "markdown",
   "source": [
    "\n",
    "Objectives: \n",
    "1.) Data Cleaning: Manage missing values, redundant or irrelevant columns, and non-standardized textual inputs. \n",
    "2.) Utilize an unsupervised machine learning model to cluster the data.\n",
    "3.) Provide visualizes to gain insights into each cluster."
   ],
   "id": "2682521ef10a8171"
  },
  {
   "metadata": {
    "ExecuteTime": {
     "end_time": "2024-11-05T09:43:09.641367Z",
     "start_time": "2024-11-05T09:43:09.633941Z"
    }
   },
   "cell_type": "code",
   "source": [
    "# Import required libraries\n",
    "\n",
    "import pandas as pd\n",
    "import numpy as np\n",
    "import matplotlib.pyplot as plt\n",
    "import seaborn as sns\n",
    "from kaggle.api.kaggle_api_extended import KaggleApi\n",
    "import zipfile"
   ],
   "id": "5c11532042d91617",
   "outputs": [],
   "execution_count": 93
  },
  {
   "metadata": {},
   "cell_type": "markdown",
   "source": "Step 1: Download the dataset from Kaggle",
   "id": "5b5a64e2abbca7ab"
  },
  {
   "metadata": {
    "ExecuteTime": {
     "end_time": "2024-11-05T09:43:11.465709Z",
     "start_time": "2024-11-05T09:43:09.681632Z"
    }
   },
   "cell_type": "code",
   "source": [
    "# Download the dataset from Kaggle\n",
    "\n",
    "api = KaggleApi()\n",
    "api.authenticate()\n",
    "\n",
    "kaggle_user = 'osmi'\n",
    "kaggle_project = 'mental-health-in-tech-2016'\n",
    "api.dataset_download_files(kaggle_user + '/' + kaggle_project)\n",
    "\n",
    "#unzip the dataset\n",
    "zip = zipfile.ZipFile(kaggle_project + '.zip').extractall()\n",
    "\n",
    "# load the data\n",
    "tech_df = pd.read_csv('mental-heath-in-tech-2016_20161114.csv')\n",
    "\n",
    "# Create dataframe \n",
    "tech_df = pd.DataFrame(tech_df)"
   ],
   "id": "39c30ad664e9b6ba",
   "outputs": [
    {
     "name": "stdout",
     "output_type": "stream",
     "text": [
      "Dataset URL: https://www.kaggle.com/datasets/osmi/mental-health-in-tech-2016\n"
     ]
    }
   ],
   "execution_count": 94
  },
  {
   "metadata": {
    "ExecuteTime": {
     "end_time": "2024-11-05T09:43:11.488266Z",
     "start_time": "2024-11-05T09:43:11.481638Z"
    }
   },
   "cell_type": "code",
   "source": [
    "# Check the dataset is as expected: 63 columns and 1433 rows\n",
    "tech_df.shape"
   ],
   "id": "85fea9a23d56cb0a",
   "outputs": [
    {
     "data": {
      "text/plain": [
       "(1433, 63)"
      ]
     },
     "execution_count": 95,
     "metadata": {},
     "output_type": "execute_result"
    }
   ],
   "execution_count": 95
  },
  {
   "metadata": {
    "ExecuteTime": {
     "end_time": "2024-11-05T09:43:11.522815Z",
     "start_time": "2024-11-05T09:43:11.507340Z"
    }
   },
   "cell_type": "code",
   "source": [
    "# Display the first 5 rows of the dataset\n",
    "tech_df.head()"
   ],
   "id": "83eb50600a28256f",
   "outputs": [
    {
     "data": {
      "text/plain": [
       "   Are you self-employed?  \\\n",
       "0                       0   \n",
       "1                       0   \n",
       "2                       0   \n",
       "3                       1   \n",
       "4                       0   \n",
       "\n",
       "  How many employees does your company or organization have?  \\\n",
       "0                                             26-100           \n",
       "1                                               6-25           \n",
       "2                                               6-25           \n",
       "3                                                NaN           \n",
       "4                                               6-25           \n",
       "\n",
       "   Is your employer primarily a tech company/organization?  \\\n",
       "0                                                1.0         \n",
       "1                                                1.0         \n",
       "2                                                1.0         \n",
       "3                                                NaN         \n",
       "4                                                0.0         \n",
       "\n",
       "   Is your primary role within your company related to tech/IT?  \\\n",
       "0                                                NaN              \n",
       "1                                                NaN              \n",
       "2                                                NaN              \n",
       "3                                                NaN              \n",
       "4                                                1.0              \n",
       "\n",
       "  Does your employer provide mental health benefits as part of healthcare coverage?  \\\n",
       "0                    Not eligible for coverage / N/A                                  \n",
       "1                                                 No                                  \n",
       "2                                                 No                                  \n",
       "3                                                NaN                                  \n",
       "4                                                Yes                                  \n",
       "\n",
       "  Do you know the options for mental health care available under your employer-provided coverage?  \\\n",
       "0                                                NaN                                                \n",
       "1                                                Yes                                                \n",
       "2                                                NaN                                                \n",
       "3                                                NaN                                                \n",
       "4                                                Yes                                                \n",
       "\n",
       "  Has your employer ever formally discussed mental health (for example, as part of a wellness campaign or other official communication)?  \\\n",
       "0                                                 No                                                                                       \n",
       "1                                                Yes                                                                                       \n",
       "2                                                 No                                                                                       \n",
       "3                                                NaN                                                                                       \n",
       "4                                                 No                                                                                       \n",
       "\n",
       "  Does your employer offer resources to learn more about mental health concerns and options for seeking help?  \\\n",
       "0                                                 No                                                            \n",
       "1                                                Yes                                                            \n",
       "2                                                 No                                                            \n",
       "3                                                NaN                                                            \n",
       "4                                                 No                                                            \n",
       "\n",
       "  Is your anonymity protected if you choose to take advantage of mental health or substance abuse treatment resources provided by your employer?  \\\n",
       "0                                       I don't know                                                                                               \n",
       "1                                                Yes                                                                                               \n",
       "2                                       I don't know                                                                                               \n",
       "3                                                NaN                                                                                               \n",
       "4                                                 No                                                                                               \n",
       "\n",
       "  If a mental health issue prompted you to request a medical leave from work, asking for that leave would be:  \\\n",
       "0                                          Very easy                                                            \n",
       "1                                      Somewhat easy                                                            \n",
       "2                         Neither easy nor difficult                                                            \n",
       "3                                                NaN                                                            \n",
       "4                         Neither easy nor difficult                                                            \n",
       "\n",
       "   ...  \\\n",
       "0  ...   \n",
       "1  ...   \n",
       "2  ...   \n",
       "3  ...   \n",
       "4  ...   \n",
       "\n",
       "  If you have a mental health issue, do you feel that it interferes with your work when being treated effectively?  \\\n",
       "0                               Not applicable to me                                                                 \n",
       "1                                             Rarely                                                                 \n",
       "2                               Not applicable to me                                                                 \n",
       "3                                          Sometimes                                                                 \n",
       "4                                          Sometimes                                                                 \n",
       "\n",
       "  If you have a mental health issue, do you feel that it interferes with your work when NOT being treated effectively?  \\\n",
       "0                               Not applicable to me                                                                     \n",
       "1                                          Sometimes                                                                     \n",
       "2                               Not applicable to me                                                                     \n",
       "3                                          Sometimes                                                                     \n",
       "4                                          Sometimes                                                                     \n",
       "\n",
       "  What is your age? What is your gender? What country do you live in?  \\\n",
       "0                39                 Male               United Kingdom   \n",
       "1                29                 male     United States of America   \n",
       "2                38                Male                United Kingdom   \n",
       "3                43                 male               United Kingdom   \n",
       "4                43               Female     United States of America   \n",
       "\n",
       "  What US state or territory do you live in?  What country do you work in?  \\\n",
       "0                                        NaN                United Kingdom   \n",
       "1                                   Illinois      United States of America   \n",
       "2                                        NaN                United Kingdom   \n",
       "3                                        NaN                United Kingdom   \n",
       "4                                   Illinois      United States of America   \n",
       "\n",
       "  What US state or territory do you work in?  \\\n",
       "0                                        NaN   \n",
       "1                                   Illinois   \n",
       "2                                        NaN   \n",
       "3                                        NaN   \n",
       "4                                   Illinois   \n",
       "\n",
       "  Which of the following best describes your work position?  \\\n",
       "0                                 Back-end Developer          \n",
       "1             Back-end Developer|Front-end Developer          \n",
       "2                                 Back-end Developer          \n",
       "3                               Supervisor/Team Lead          \n",
       "4  Executive Leadership|Supervisor/Team Lead|Dev ...          \n",
       "\n",
       "  Do you work remotely?  \n",
       "0             Sometimes  \n",
       "1                 Never  \n",
       "2                Always  \n",
       "3             Sometimes  \n",
       "4             Sometimes  \n",
       "\n",
       "[5 rows x 63 columns]"
      ],
      "text/html": [
       "<div>\n",
       "<style scoped>\n",
       "    .dataframe tbody tr th:only-of-type {\n",
       "        vertical-align: middle;\n",
       "    }\n",
       "\n",
       "    .dataframe tbody tr th {\n",
       "        vertical-align: top;\n",
       "    }\n",
       "\n",
       "    .dataframe thead th {\n",
       "        text-align: right;\n",
       "    }\n",
       "</style>\n",
       "<table border=\"1\" class=\"dataframe\">\n",
       "  <thead>\n",
       "    <tr style=\"text-align: right;\">\n",
       "      <th></th>\n",
       "      <th>Are you self-employed?</th>\n",
       "      <th>How many employees does your company or organization have?</th>\n",
       "      <th>Is your employer primarily a tech company/organization?</th>\n",
       "      <th>Is your primary role within your company related to tech/IT?</th>\n",
       "      <th>Does your employer provide mental health benefits as part of healthcare coverage?</th>\n",
       "      <th>Do you know the options for mental health care available under your employer-provided coverage?</th>\n",
       "      <th>Has your employer ever formally discussed mental health (for example, as part of a wellness campaign or other official communication)?</th>\n",
       "      <th>Does your employer offer resources to learn more about mental health concerns and options for seeking help?</th>\n",
       "      <th>Is your anonymity protected if you choose to take advantage of mental health or substance abuse treatment resources provided by your employer?</th>\n",
       "      <th>If a mental health issue prompted you to request a medical leave from work, asking for that leave would be:</th>\n",
       "      <th>...</th>\n",
       "      <th>If you have a mental health issue, do you feel that it interferes with your work when being treated effectively?</th>\n",
       "      <th>If you have a mental health issue, do you feel that it interferes with your work when NOT being treated effectively?</th>\n",
       "      <th>What is your age?</th>\n",
       "      <th>What is your gender?</th>\n",
       "      <th>What country do you live in?</th>\n",
       "      <th>What US state or territory do you live in?</th>\n",
       "      <th>What country do you work in?</th>\n",
       "      <th>What US state or territory do you work in?</th>\n",
       "      <th>Which of the following best describes your work position?</th>\n",
       "      <th>Do you work remotely?</th>\n",
       "    </tr>\n",
       "  </thead>\n",
       "  <tbody>\n",
       "    <tr>\n",
       "      <th>0</th>\n",
       "      <td>0</td>\n",
       "      <td>26-100</td>\n",
       "      <td>1.0</td>\n",
       "      <td>NaN</td>\n",
       "      <td>Not eligible for coverage / N/A</td>\n",
       "      <td>NaN</td>\n",
       "      <td>No</td>\n",
       "      <td>No</td>\n",
       "      <td>I don't know</td>\n",
       "      <td>Very easy</td>\n",
       "      <td>...</td>\n",
       "      <td>Not applicable to me</td>\n",
       "      <td>Not applicable to me</td>\n",
       "      <td>39</td>\n",
       "      <td>Male</td>\n",
       "      <td>United Kingdom</td>\n",
       "      <td>NaN</td>\n",
       "      <td>United Kingdom</td>\n",
       "      <td>NaN</td>\n",
       "      <td>Back-end Developer</td>\n",
       "      <td>Sometimes</td>\n",
       "    </tr>\n",
       "    <tr>\n",
       "      <th>1</th>\n",
       "      <td>0</td>\n",
       "      <td>6-25</td>\n",
       "      <td>1.0</td>\n",
       "      <td>NaN</td>\n",
       "      <td>No</td>\n",
       "      <td>Yes</td>\n",
       "      <td>Yes</td>\n",
       "      <td>Yes</td>\n",
       "      <td>Yes</td>\n",
       "      <td>Somewhat easy</td>\n",
       "      <td>...</td>\n",
       "      <td>Rarely</td>\n",
       "      <td>Sometimes</td>\n",
       "      <td>29</td>\n",
       "      <td>male</td>\n",
       "      <td>United States of America</td>\n",
       "      <td>Illinois</td>\n",
       "      <td>United States of America</td>\n",
       "      <td>Illinois</td>\n",
       "      <td>Back-end Developer|Front-end Developer</td>\n",
       "      <td>Never</td>\n",
       "    </tr>\n",
       "    <tr>\n",
       "      <th>2</th>\n",
       "      <td>0</td>\n",
       "      <td>6-25</td>\n",
       "      <td>1.0</td>\n",
       "      <td>NaN</td>\n",
       "      <td>No</td>\n",
       "      <td>NaN</td>\n",
       "      <td>No</td>\n",
       "      <td>No</td>\n",
       "      <td>I don't know</td>\n",
       "      <td>Neither easy nor difficult</td>\n",
       "      <td>...</td>\n",
       "      <td>Not applicable to me</td>\n",
       "      <td>Not applicable to me</td>\n",
       "      <td>38</td>\n",
       "      <td>Male</td>\n",
       "      <td>United Kingdom</td>\n",
       "      <td>NaN</td>\n",
       "      <td>United Kingdom</td>\n",
       "      <td>NaN</td>\n",
       "      <td>Back-end Developer</td>\n",
       "      <td>Always</td>\n",
       "    </tr>\n",
       "    <tr>\n",
       "      <th>3</th>\n",
       "      <td>1</td>\n",
       "      <td>NaN</td>\n",
       "      <td>NaN</td>\n",
       "      <td>NaN</td>\n",
       "      <td>NaN</td>\n",
       "      <td>NaN</td>\n",
       "      <td>NaN</td>\n",
       "      <td>NaN</td>\n",
       "      <td>NaN</td>\n",
       "      <td>NaN</td>\n",
       "      <td>...</td>\n",
       "      <td>Sometimes</td>\n",
       "      <td>Sometimes</td>\n",
       "      <td>43</td>\n",
       "      <td>male</td>\n",
       "      <td>United Kingdom</td>\n",
       "      <td>NaN</td>\n",
       "      <td>United Kingdom</td>\n",
       "      <td>NaN</td>\n",
       "      <td>Supervisor/Team Lead</td>\n",
       "      <td>Sometimes</td>\n",
       "    </tr>\n",
       "    <tr>\n",
       "      <th>4</th>\n",
       "      <td>0</td>\n",
       "      <td>6-25</td>\n",
       "      <td>0.0</td>\n",
       "      <td>1.0</td>\n",
       "      <td>Yes</td>\n",
       "      <td>Yes</td>\n",
       "      <td>No</td>\n",
       "      <td>No</td>\n",
       "      <td>No</td>\n",
       "      <td>Neither easy nor difficult</td>\n",
       "      <td>...</td>\n",
       "      <td>Sometimes</td>\n",
       "      <td>Sometimes</td>\n",
       "      <td>43</td>\n",
       "      <td>Female</td>\n",
       "      <td>United States of America</td>\n",
       "      <td>Illinois</td>\n",
       "      <td>United States of America</td>\n",
       "      <td>Illinois</td>\n",
       "      <td>Executive Leadership|Supervisor/Team Lead|Dev ...</td>\n",
       "      <td>Sometimes</td>\n",
       "    </tr>\n",
       "  </tbody>\n",
       "</table>\n",
       "<p>5 rows × 63 columns</p>\n",
       "</div>"
      ]
     },
     "execution_count": 96,
     "metadata": {},
     "output_type": "execute_result"
    }
   ],
   "execution_count": 96
  },
  {
   "metadata": {},
   "cell_type": "markdown",
   "source": "Step 2: Rename Columns",
   "id": "8ce9680ad76f37c4"
  },
  {
   "metadata": {
    "ExecuteTime": {
     "end_time": "2024-11-05T09:43:11.583984Z",
     "start_time": "2024-11-05T09:43:11.578759Z"
    }
   },
   "cell_type": "code",
   "source": "tech_df.columns",
   "id": "6d8379ba76088d5b",
   "outputs": [
    {
     "data": {
      "text/plain": [
       "Index(['Are you self-employed?',\n",
       "       'How many employees does your company or organization have?',\n",
       "       'Is your employer primarily a tech company/organization?',\n",
       "       'Is your primary role within your company related to tech/IT?',\n",
       "       'Does your employer provide mental health benefits as part of healthcare coverage?',\n",
       "       'Do you know the options for mental health care available under your employer-provided coverage?',\n",
       "       'Has your employer ever formally discussed mental health (for example, as part of a wellness campaign or other official communication)?',\n",
       "       'Does your employer offer resources to learn more about mental health concerns and options for seeking help?',\n",
       "       'Is your anonymity protected if you choose to take advantage of mental health or substance abuse treatment resources provided by your employer?',\n",
       "       'If a mental health issue prompted you to request a medical leave from work, asking for that leave would be:',\n",
       "       'Do you think that discussing a mental health disorder with your employer would have negative consequences?',\n",
       "       'Do you think that discussing a physical health issue with your employer would have negative consequences?',\n",
       "       'Would you feel comfortable discussing a mental health disorder with your coworkers?',\n",
       "       'Would you feel comfortable discussing a mental health disorder with your direct supervisor(s)?',\n",
       "       'Do you feel that your employer takes mental health as seriously as physical health?',\n",
       "       'Have you heard of or observed negative consequences for co-workers who have been open about mental health issues in your workplace?',\n",
       "       'Do you have medical coverage (private insurance or state-provided) which includes treatment of  mental health issues?',\n",
       "       'Do you know local or online resources to seek help for a mental health disorder?',\n",
       "       'If you have been diagnosed or treated for a mental health disorder, do you ever reveal this to clients or business contacts?',\n",
       "       'If you have revealed a mental health issue to a client or business contact, do you believe this has impacted you negatively?',\n",
       "       'If you have been diagnosed or treated for a mental health disorder, do you ever reveal this to coworkers or employees?',\n",
       "       'If you have revealed a mental health issue to a coworker or employee, do you believe this has impacted you negatively?',\n",
       "       'Do you believe your productivity is ever affected by a mental health issue?',\n",
       "       'If yes, what percentage of your work time (time performing primary or secondary job functions) is affected by a mental health issue?',\n",
       "       'Do you have previous employers?',\n",
       "       'Have your previous employers provided mental health benefits?',\n",
       "       'Were you aware of the options for mental health care provided by your previous employers?',\n",
       "       'Did your previous employers ever formally discuss mental health (as part of a wellness campaign or other official communication)?',\n",
       "       'Did your previous employers provide resources to learn more about mental health issues and how to seek help?',\n",
       "       'Was your anonymity protected if you chose to take advantage of mental health or substance abuse treatment resources with previous employers?',\n",
       "       'Do you think that discussing a mental health disorder with previous employers would have negative consequences?',\n",
       "       'Do you think that discussing a physical health issue with previous employers would have negative consequences?',\n",
       "       'Would you have been willing to discuss a mental health issue with your previous co-workers?',\n",
       "       'Would you have been willing to discuss a mental health issue with your direct supervisor(s)?',\n",
       "       'Did you feel that your previous employers took mental health as seriously as physical health?',\n",
       "       'Did you hear of or observe negative consequences for co-workers with mental health issues in your previous workplaces?',\n",
       "       'Would you be willing to bring up a physical health issue with a potential employer in an interview?',\n",
       "       'Why or why not?',\n",
       "       'Would you bring up a mental health issue with a potential employer in an interview?',\n",
       "       'Why or why not?.1',\n",
       "       'Do you feel that being identified as a person with a mental health issue would hurt your career?',\n",
       "       'Do you think that team members/co-workers would view you more negatively if they knew you suffered from a mental health issue?',\n",
       "       'How willing would you be to share with friends and family that you have a mental illness?',\n",
       "       'Have you observed or experienced an unsupportive or badly handled response to a mental health issue in your current or previous workplace?',\n",
       "       'Have your observations of how another individual who discussed a mental health disorder made you less likely to reveal a mental health issue yourself in your current workplace?',\n",
       "       'Do you have a family history of mental illness?',\n",
       "       'Have you had a mental health disorder in the past?',\n",
       "       'Do you currently have a mental health disorder?',\n",
       "       'If yes, what condition(s) have you been diagnosed with?',\n",
       "       'If maybe, what condition(s) do you believe you have?',\n",
       "       'Have you been diagnosed with a mental health condition by a medical professional?',\n",
       "       'If so, what condition(s) were you diagnosed with?',\n",
       "       'Have you ever sought treatment for a mental health issue from a mental health professional?',\n",
       "       'If you have a mental health issue, do you feel that it interferes with your work when being treated effectively?',\n",
       "       'If you have a mental health issue, do you feel that it interferes with your work when NOT being treated effectively?',\n",
       "       'What is your age?', 'What is your gender?',\n",
       "       'What country do you live in?',\n",
       "       'What US state or territory do you live in?',\n",
       "       'What country do you work in?',\n",
       "       'What US state or territory do you work in?',\n",
       "       'Which of the following best describes your work position?',\n",
       "       'Do you work remotely?'],\n",
       "      dtype='object')"
      ]
     },
     "execution_count": 97,
     "metadata": {},
     "output_type": "execute_result"
    }
   ],
   "execution_count": 97
  },
  {
   "metadata": {
    "ExecuteTime": {
     "end_time": "2024-11-05T09:43:11.649970Z",
     "start_time": "2024-11-05T09:43:11.642255Z"
    }
   },
   "cell_type": "code",
   "source": [
    "# Rename the columns to save space and for improved understanding of column meaning.\n",
    "new_column_names = ['self_employed', 'number_of_employees', 'tech_company', 'role_tech_related', 'mental_health_benefits', 'mental_health_coverage_awareness', 'mental_health_offical_communication', \n",
    "                    'mental_health_resources', 'mental_health_anonymity', 'asking_for_leave_for_mental_health', 'discussing_mental_health_with_employer', 'discussing_physical_health_with_employer',\n",
    "                    'discussing_mental_health_with_coworker', 'discussing_mental_health_with_supervisor', 'physical_same_mental', 'neg_consequences_open_mental_health', 'private_state_medical_coverage_w_mental_health', 'online_local_resources_mental_health', 'reveal_mental_diagnoses_clients', 'revealed_diagnoses_clients_negative_consequences',\n",
    "                    'reveal_mental_diagnoses_coworkers_employees', 'revealed_diagnoses_coworkers_negative_consequences', 'productivity_with_mental_health_issue', 'percentage_productivity_with_mental_health_issue', 'previous_employer', 'previous_employer_mental_health_benefits', 'previous_employer_mental_health_coverage_awareness', 'previous_employer_mental_health_official_communication', 'previous_employer_mental_health_resources', 'previous_employer_mental_health_anonymity', 'discussing_mental_health_with_previous_employer', 'discussing_physical_health_with_previous_employer', 'reveal_mental_diagnoses_previous_coworkers', 'reveal_mental_diagnoses_previous_supervisor', 'previous_employer_physical_same_mental', 'previous_employer_neg_consequences_open_mental_health', 'physical_health_interview', 'physical_health_interview_explanation', 'mental_health_interview', 'mental_health_interview_explanation', 'mental_health_career_impact', 'coworkers_perception_of_mental_health', 'share_mental_illness_loved_ones', 'current_or_previous_employment_unsupportive_response_mental_health', 'current_employment_less_likely_to_reveal_mental_health_issue', 'family_history_mental_health', 'past_history_mental_health', 'current_MH_disorder', 'current_diagnosed_MH_disorder', 'believed_MH_disorder', 'at_any_point_diagnosed_MH_disorder', 'name_history_diagnosed_MH_disorder', 'treatment_MH_disorder', 'interference_with_work_with_effective_treatment', 'interference_with_work_NOT_effective_treatment', \n",
    "                    'age', 'gender', 'country_residence', 'US_state_residence', 'country_work', 'US_state_work', 'work_position', 'remote_work']\n",
    "\n",
    "tech_df.columns = new_column_names\n",
    "tech_df.shape"
   ],
   "id": "c8c597681092c838",
   "outputs": [
    {
     "data": {
      "text/plain": [
       "(1433, 63)"
      ]
     },
     "execution_count": 98,
     "metadata": {},
     "output_type": "execute_result"
    }
   ],
   "execution_count": 98
  },
  {
   "metadata": {},
   "cell_type": "markdown",
   "source": [
    "Step 3: Understand missing value patterns to analyze Missing at Random (MAR) or Missing Completely at Random (MCAR) or Missing Not at Random (MNAR). Replace missing values with appropriate values. \n",
    "\n",
    "- Insert 0 for values where the respondent was not required to answer the question due to the question not being applicable to them from their answer to a previous column. Assumed to be MNAR. (Missing value is dependent on some other variable.)\n",
    "- Insert \"missing\" for missing values where the respondent was required to answer the question but did not. Assumed to be MNAR. (Missing value is dependent on some other variable.)"
   ],
   "id": "97b54c63b88827fc"
  },
  {
   "metadata": {
    "ExecuteTime": {
     "end_time": "2024-11-05T09:43:11.719086Z",
     "start_time": "2024-11-05T09:43:11.710983Z"
    }
   },
   "cell_type": "code",
   "source": [
    "# Understand the patterns of missing values\n",
    "missing_values = tech_df.isnull().sum()\n",
    "missing_values"
   ],
   "id": "e78a4fd301e8f522",
   "outputs": [
    {
     "data": {
      "text/plain": [
       "self_employed                0\n",
       "number_of_employees        287\n",
       "tech_company               287\n",
       "role_tech_related         1170\n",
       "mental_health_benefits     287\n",
       "                          ... \n",
       "US_state_residence         593\n",
       "country_work                 0\n",
       "US_state_work              582\n",
       "work_position                0\n",
       "remote_work                  0\n",
       "Length: 63, dtype: int64"
      ]
     },
     "execution_count": 99,
     "metadata": {},
     "output_type": "execute_result"
    }
   ],
   "execution_count": 99
  },
  {
   "metadata": {
    "ExecuteTime": {
     "end_time": "2024-11-05T09:43:11.835311Z",
     "start_time": "2024-11-05T09:43:11.828978Z"
    }
   },
   "cell_type": "code",
   "source": [
    "# Delete rows and columns related to self-employed workers. Concern for introducing bias and not relevant to the analysis of mental health for a tech related company with multiple employees.  \n",
    "\n",
    "tech_df = tech_df[tech_df['self_employed'] == 0]\n",
    "\n",
    "# These columns were only answered by self-employed workers and not relevant to the remaining dataset.\n",
    "\n",
    "columns_to_delete = ['online_local_resources_mental_health', 'productivity_with_mental_health_issue', 'revealed_diagnoses_coworkers_negative_consequences', 'private_state_medical_coverage_w_mental_health', 'reveal_mental_diagnoses_coworkers_employees', 'reveal_mental_diagnoses_clients', 'percentage_productivity_with_mental_health_issue', 'revealed_diagnoses_clients_negative_consequences']\n",
    "\n",
    "tech_df = tech_df.drop(columns=columns_to_delete)"
   ],
   "id": "f427b8e4b1807391",
   "outputs": [],
   "execution_count": 100
  },
  {
   "metadata": {
    "ExecuteTime": {
     "end_time": "2024-11-05T09:43:11.877122Z",
     "start_time": "2024-11-05T09:43:11.871121Z"
    }
   },
   "cell_type": "code",
   "source": [
    "# Check value of previous employer = 0 == 131 \n",
    "tech_df['previous_employer'].value_counts()"
   ],
   "id": "1f1ac6f6a4d67076",
   "outputs": [
    {
     "data": {
      "text/plain": [
       "previous_employer\n",
       "1    1015\n",
       "0     131\n",
       "Name: count, dtype: int64"
      ]
     },
     "execution_count": 101,
     "metadata": {},
     "output_type": "execute_result"
    }
   ],
   "execution_count": 101
  },
  {
   "metadata": {
    "ExecuteTime": {
     "end_time": "2024-11-05T09:43:11.950722Z",
     "start_time": "2024-11-05T09:43:11.944064Z"
    }
   },
   "cell_type": "code",
   "source": [
    "# Columns with missing values due to not being applicable to the respondent, do not have previous employer. Replace with 0. MNAR.\n",
    "\n",
    "columns_fill_na = ['previous_employer_neg_consequences_open_mental_health', \n",
    "    'discussing_physical_health_with_previous_employer', 'previous_employer_mental_health_resources',\n",
    "    'previous_employer_mental_health_coverage_awareness', 'previous_employer_physical_same_mental',\n",
    "    'previous_employer_mental_health_official_communication', 'previous_employer_mental_health_anonymity',\n",
    "    'discussing_mental_health_with_previous_employer', 'previous_employer_mental_health_benefits',\n",
    "    'reveal_mental_diagnoses_previous_coworkers', 'reveal_mental_diagnoses_previous_supervisor']\n",
    "\n",
    "tech_df[columns_fill_na] = tech_df[columns_fill_na].fillna(0)"
   ],
   "id": "1b8c2c1fada01b3",
   "outputs": [],
   "execution_count": 102
  },
  {
   "metadata": {
    "ExecuteTime": {
     "end_time": "2024-11-05T09:43:12.015097Z",
     "start_time": "2024-11-05T09:43:12.009939Z"
    }
   },
   "cell_type": "code",
   "source": [
    "# Gender column has 3 missing values. Replace with \"missing\" assumed to be MNAR, and discomfort with answering the question.\n",
    "\n",
    "tech_df['gender'] = tech_df['gender'].fillna('missing')"
   ],
   "id": "b95eb93d2a2ece22",
   "outputs": [],
   "execution_count": 103
  },
  {
   "metadata": {
    "ExecuteTime": {
     "end_time": "2024-11-05T09:43:12.052962Z",
     "start_time": "2024-11-05T09:43:12.040645Z"
    }
   },
   "cell_type": "code",
   "source": [
    "# Understand the patterns of missing values\n",
    "missing_values = tech_df.isnull().sum()\n",
    "missing_values"
   ],
   "id": "a365ff4b37f50544",
   "outputs": [
    {
     "data": {
      "text/plain": [
       "self_employed                                                           0\n",
       "number_of_employees                                                     0\n",
       "tech_company                                                            0\n",
       "role_tech_related                                                     883\n",
       "mental_health_benefits                                                  0\n",
       "mental_health_coverage_awareness                                      133\n",
       "mental_health_offical_communication                                     0\n",
       "mental_health_resources                                                 0\n",
       "mental_health_anonymity                                                 0\n",
       "asking_for_leave_for_mental_health                                      0\n",
       "discussing_mental_health_with_employer                                  0\n",
       "discussing_physical_health_with_employer                                0\n",
       "discussing_mental_health_with_coworker                                  0\n",
       "discussing_mental_health_with_supervisor                                0\n",
       "physical_same_mental                                                    0\n",
       "neg_consequences_open_mental_health                                     0\n",
       "previous_employer                                                       0\n",
       "previous_employer_mental_health_benefits                                0\n",
       "previous_employer_mental_health_coverage_awareness                      0\n",
       "previous_employer_mental_health_official_communication                  0\n",
       "previous_employer_mental_health_resources                               0\n",
       "previous_employer_mental_health_anonymity                               0\n",
       "discussing_mental_health_with_previous_employer                         0\n",
       "discussing_physical_health_with_previous_employer                       0\n",
       "reveal_mental_diagnoses_previous_coworkers                              0\n",
       "reveal_mental_diagnoses_previous_supervisor                             0\n",
       "previous_employer_physical_same_mental                                  0\n",
       "previous_employer_neg_consequences_open_mental_health                   0\n",
       "physical_health_interview                                               0\n",
       "physical_health_interview_explanation                                 276\n",
       "mental_health_interview                                                 0\n",
       "mental_health_interview_explanation                                   250\n",
       "mental_health_career_impact                                             0\n",
       "coworkers_perception_of_mental_health                                   0\n",
       "share_mental_illness_loved_ones                                         0\n",
       "current_or_previous_employment_unsupportive_response_mental_health     52\n",
       "current_employment_less_likely_to_reveal_mental_health_issue          635\n",
       "family_history_mental_health                                            0\n",
       "past_history_mental_health                                              0\n",
       "current_MH_disorder                                                     0\n",
       "current_diagnosed_MH_disorder                                         701\n",
       "believed_MH_disorder                                                  896\n",
       "at_any_point_diagnosed_MH_disorder                                      0\n",
       "name_history_diagnosed_MH_disorder                                    583\n",
       "treatment_MH_disorder                                                   0\n",
       "interference_with_work_with_effective_treatment                         0\n",
       "interference_with_work_NOT_effective_treatment                          0\n",
       "age                                                                     0\n",
       "gender                                                                  0\n",
       "country_residence                                                       0\n",
       "US_state_residence                                                    437\n",
       "country_work                                                            0\n",
       "US_state_work                                                         430\n",
       "work_position                                                           0\n",
       "remote_work                                                             0\n",
       "dtype: int64"
      ]
     },
     "execution_count": 104,
     "metadata": {},
     "output_type": "execute_result"
    }
   ],
   "execution_count": 104
  },
  {
   "metadata": {
    "ExecuteTime": {
     "end_time": "2024-11-05T09:43:12.124008Z",
     "start_time": "2024-11-05T09:43:12.121887Z"
    }
   },
   "cell_type": "code",
   "source": "",
   "id": "9076d8099525f66e",
   "outputs": [],
   "execution_count": null
  }
 ],
 "metadata": {
  "kernelspec": {
   "display_name": "Python 3",
   "language": "python",
   "name": "python3"
  },
  "language_info": {
   "codemirror_mode": {
    "name": "ipython",
    "version": 2
   },
   "file_extension": ".py",
   "mimetype": "text/x-python",
   "name": "python",
   "nbconvert_exporter": "python",
   "pygments_lexer": "ipython2",
   "version": "2.7.6"
  }
 },
 "nbformat": 4,
 "nbformat_minor": 5
}
