{
 "cells": [
  {
   "cell_type": "code",
   "id": "initial_id",
   "metadata": {
    "collapsed": true,
    "ExecuteTime": {
     "end_time": "2024-11-03T12:37:36.992598Z",
     "start_time": "2024-11-03T12:37:36.977219Z"
    }
   },
   "source": [
    "# This file will be for preprocessing the data. It will include the following steps:\n",
    "# 1. Loading the data\n",
    "# 2. Checking for missing values"
   ],
   "outputs": [],
   "execution_count": 96
  },
  {
   "metadata": {},
   "cell_type": "markdown",
   "source": "In the next cell we will import the required libraries for all the preprocessing steps.",
   "id": "9e5a6fdc1183c4d"
  },
  {
   "metadata": {
    "ExecuteTime": {
     "end_time": "2024-11-03T12:37:37.006563Z",
     "start_time": "2024-11-03T12:37:36.999132Z"
    }
   },
   "cell_type": "code",
   "source": [
    "# Required Libraries\n",
    "import pandas as pd\n",
    "import numpy as np\n",
    "import matplotlib.pyplot as plt\n",
    "import seaborn as sns\n",
    "from kaggle.api.kaggle_api_extended import KaggleApi\n",
    "import zipfile\n"
   ],
   "id": "2dadb9375d3796c5",
   "outputs": [],
   "execution_count": 97
  },
  {
   "metadata": {
    "ExecuteTime": {
     "end_time": "2024-11-03T12:37:37.089659Z",
     "start_time": "2024-11-03T12:37:37.044255Z"
    }
   },
   "cell_type": "code",
   "source": [
    "# load sample data\n",
    "# log into kaggle\n",
    "\n",
    "api = KaggleApi()\n",
    "api.authenticate()"
   ],
   "id": "b91ad8de70d15261",
   "outputs": [],
   "execution_count": 98
  },
  {
   "metadata": {
    "ExecuteTime": {
     "end_time": "2024-11-03T12:37:38.961973Z",
     "start_time": "2024-11-03T12:37:37.109464Z"
    }
   },
   "cell_type": "code",
   "source": [
    "# download the dataset\n",
    "kaggle_user = 'osmi'\n",
    "kaggle_project = 'mental-health-in-tech-2016'\n",
    "api.dataset_download_files(kaggle_user + '/' + kaggle_project)\n",
    "\n",
    "#unzip the dataset\n",
    "zip = zipfile.ZipFile(kaggle_project + '.zip').extractall()\n"
   ],
   "id": "fb648afcecaa7db9",
   "outputs": [
    {
     "name": "stdout",
     "output_type": "stream",
     "text": [
      "Dataset URL: https://www.kaggle.com/datasets/osmi/mental-health-in-tech-2016\n"
     ]
    }
   ],
   "execution_count": 99
  },
  {
   "metadata": {
    "ExecuteTime": {
     "end_time": "2024-11-03T12:37:39.042123Z",
     "start_time": "2024-11-03T12:37:38.979193Z"
    }
   },
   "cell_type": "code",
   "source": [
    "# load the data\n",
    "tech_df = pd.read_csv('mental-heath-in-tech-2016_20161114.csv')"
   ],
   "id": "d08332e06838f894",
   "outputs": [],
   "execution_count": 100
  },
  {
   "metadata": {
    "ExecuteTime": {
     "end_time": "2024-11-03T12:37:39.066296Z",
     "start_time": "2024-11-03T12:37:39.061512Z"
    }
   },
   "cell_type": "code",
   "source": [
    "# make a copy of the data\n",
    "tech_df_copy = tech_df.copy()"
   ],
   "id": "f6afab2a3f0a36c5",
   "outputs": [],
   "execution_count": 101
  },
  {
   "metadata": {
    "ExecuteTime": {
     "end_time": "2024-11-03T12:37:39.096355Z",
     "start_time": "2024-11-03T12:37:39.084293Z"
    }
   },
   "cell_type": "code",
   "source": [
    "# Dataset has values that are 'N/A' and need to be considered as missing values\n",
    "tech_df_copy = tech_df_copy.replace('N/A', np.nan)"
   ],
   "id": "c6fa4bb43adc9d35",
   "outputs": [],
   "execution_count": 102
  },
  {
   "metadata": {
    "ExecuteTime": {
     "end_time": "2024-11-03T12:37:39.120795Z",
     "start_time": "2024-11-03T12:37:39.114009Z"
    }
   },
   "cell_type": "code",
   "source": [
    "# check the data\n",
    "# make sure that the number of rows and columns are correct\n",
    "tech_df_copy.shape"
   ],
   "id": "e10ac76da42d9f34",
   "outputs": [
    {
     "data": {
      "text/plain": [
       "(1433, 63)"
      ]
     },
     "execution_count": 103,
     "metadata": {},
     "output_type": "execute_result"
    }
   ],
   "execution_count": 103
  },
  {
   "metadata": {
    "ExecuteTime": {
     "end_time": "2024-11-03T12:37:39.154437Z",
     "start_time": "2024-11-03T12:37:39.139655Z"
    }
   },
   "cell_type": "code",
   "source": [
    "# check that the name of columns is correct\n",
    "tech_df_copy.head()"
   ],
   "id": "fbf5ec6045a686fe",
   "outputs": [
    {
     "data": {
      "text/plain": [
       "   Are you self-employed?  \\\n",
       "0                       0   \n",
       "1                       0   \n",
       "2                       0   \n",
       "3                       1   \n",
       "4                       0   \n",
       "\n",
       "  How many employees does your company or organization have?  \\\n",
       "0                                             26-100           \n",
       "1                                               6-25           \n",
       "2                                               6-25           \n",
       "3                                                NaN           \n",
       "4                                               6-25           \n",
       "\n",
       "   Is your employer primarily a tech company/organization?  \\\n",
       "0                                                1.0         \n",
       "1                                                1.0         \n",
       "2                                                1.0         \n",
       "3                                                NaN         \n",
       "4                                                0.0         \n",
       "\n",
       "   Is your primary role within your company related to tech/IT?  \\\n",
       "0                                                NaN              \n",
       "1                                                NaN              \n",
       "2                                                NaN              \n",
       "3                                                NaN              \n",
       "4                                                1.0              \n",
       "\n",
       "  Does your employer provide mental health benefits as part of healthcare coverage?  \\\n",
       "0                    Not eligible for coverage / N/A                                  \n",
       "1                                                 No                                  \n",
       "2                                                 No                                  \n",
       "3                                                NaN                                  \n",
       "4                                                Yes                                  \n",
       "\n",
       "  Do you know the options for mental health care available under your employer-provided coverage?  \\\n",
       "0                                                NaN                                                \n",
       "1                                                Yes                                                \n",
       "2                                                NaN                                                \n",
       "3                                                NaN                                                \n",
       "4                                                Yes                                                \n",
       "\n",
       "  Has your employer ever formally discussed mental health (for example, as part of a wellness campaign or other official communication)?  \\\n",
       "0                                                 No                                                                                       \n",
       "1                                                Yes                                                                                       \n",
       "2                                                 No                                                                                       \n",
       "3                                                NaN                                                                                       \n",
       "4                                                 No                                                                                       \n",
       "\n",
       "  Does your employer offer resources to learn more about mental health concerns and options for seeking help?  \\\n",
       "0                                                 No                                                            \n",
       "1                                                Yes                                                            \n",
       "2                                                 No                                                            \n",
       "3                                                NaN                                                            \n",
       "4                                                 No                                                            \n",
       "\n",
       "  Is your anonymity protected if you choose to take advantage of mental health or substance abuse treatment resources provided by your employer?  \\\n",
       "0                                       I don't know                                                                                               \n",
       "1                                                Yes                                                                                               \n",
       "2                                       I don't know                                                                                               \n",
       "3                                                NaN                                                                                               \n",
       "4                                                 No                                                                                               \n",
       "\n",
       "  If a mental health issue prompted you to request a medical leave from work, asking for that leave would be:  \\\n",
       "0                                          Very easy                                                            \n",
       "1                                      Somewhat easy                                                            \n",
       "2                         Neither easy nor difficult                                                            \n",
       "3                                                NaN                                                            \n",
       "4                         Neither easy nor difficult                                                            \n",
       "\n",
       "   ...  \\\n",
       "0  ...   \n",
       "1  ...   \n",
       "2  ...   \n",
       "3  ...   \n",
       "4  ...   \n",
       "\n",
       "  If you have a mental health issue, do you feel that it interferes with your work when being treated effectively?  \\\n",
       "0                               Not applicable to me                                                                 \n",
       "1                                             Rarely                                                                 \n",
       "2                               Not applicable to me                                                                 \n",
       "3                                          Sometimes                                                                 \n",
       "4                                          Sometimes                                                                 \n",
       "\n",
       "  If you have a mental health issue, do you feel that it interferes with your work when NOT being treated effectively?  \\\n",
       "0                               Not applicable to me                                                                     \n",
       "1                                          Sometimes                                                                     \n",
       "2                               Not applicable to me                                                                     \n",
       "3                                          Sometimes                                                                     \n",
       "4                                          Sometimes                                                                     \n",
       "\n",
       "  What is your age? What is your gender? What country do you live in?  \\\n",
       "0                39                 Male               United Kingdom   \n",
       "1                29                 male     United States of America   \n",
       "2                38                Male                United Kingdom   \n",
       "3                43                 male               United Kingdom   \n",
       "4                43               Female     United States of America   \n",
       "\n",
       "  What US state or territory do you live in?  What country do you work in?  \\\n",
       "0                                        NaN                United Kingdom   \n",
       "1                                   Illinois      United States of America   \n",
       "2                                        NaN                United Kingdom   \n",
       "3                                        NaN                United Kingdom   \n",
       "4                                   Illinois      United States of America   \n",
       "\n",
       "  What US state or territory do you work in?  \\\n",
       "0                                        NaN   \n",
       "1                                   Illinois   \n",
       "2                                        NaN   \n",
       "3                                        NaN   \n",
       "4                                   Illinois   \n",
       "\n",
       "  Which of the following best describes your work position?  \\\n",
       "0                                 Back-end Developer          \n",
       "1             Back-end Developer|Front-end Developer          \n",
       "2                                 Back-end Developer          \n",
       "3                               Supervisor/Team Lead          \n",
       "4  Executive Leadership|Supervisor/Team Lead|Dev ...          \n",
       "\n",
       "  Do you work remotely?  \n",
       "0             Sometimes  \n",
       "1                 Never  \n",
       "2                Always  \n",
       "3             Sometimes  \n",
       "4             Sometimes  \n",
       "\n",
       "[5 rows x 63 columns]"
      ],
      "text/html": [
       "<div>\n",
       "<style scoped>\n",
       "    .dataframe tbody tr th:only-of-type {\n",
       "        vertical-align: middle;\n",
       "    }\n",
       "\n",
       "    .dataframe tbody tr th {\n",
       "        vertical-align: top;\n",
       "    }\n",
       "\n",
       "    .dataframe thead th {\n",
       "        text-align: right;\n",
       "    }\n",
       "</style>\n",
       "<table border=\"1\" class=\"dataframe\">\n",
       "  <thead>\n",
       "    <tr style=\"text-align: right;\">\n",
       "      <th></th>\n",
       "      <th>Are you self-employed?</th>\n",
       "      <th>How many employees does your company or organization have?</th>\n",
       "      <th>Is your employer primarily a tech company/organization?</th>\n",
       "      <th>Is your primary role within your company related to tech/IT?</th>\n",
       "      <th>Does your employer provide mental health benefits as part of healthcare coverage?</th>\n",
       "      <th>Do you know the options for mental health care available under your employer-provided coverage?</th>\n",
       "      <th>Has your employer ever formally discussed mental health (for example, as part of a wellness campaign or other official communication)?</th>\n",
       "      <th>Does your employer offer resources to learn more about mental health concerns and options for seeking help?</th>\n",
       "      <th>Is your anonymity protected if you choose to take advantage of mental health or substance abuse treatment resources provided by your employer?</th>\n",
       "      <th>If a mental health issue prompted you to request a medical leave from work, asking for that leave would be:</th>\n",
       "      <th>...</th>\n",
       "      <th>If you have a mental health issue, do you feel that it interferes with your work when being treated effectively?</th>\n",
       "      <th>If you have a mental health issue, do you feel that it interferes with your work when NOT being treated effectively?</th>\n",
       "      <th>What is your age?</th>\n",
       "      <th>What is your gender?</th>\n",
       "      <th>What country do you live in?</th>\n",
       "      <th>What US state or territory do you live in?</th>\n",
       "      <th>What country do you work in?</th>\n",
       "      <th>What US state or territory do you work in?</th>\n",
       "      <th>Which of the following best describes your work position?</th>\n",
       "      <th>Do you work remotely?</th>\n",
       "    </tr>\n",
       "  </thead>\n",
       "  <tbody>\n",
       "    <tr>\n",
       "      <th>0</th>\n",
       "      <td>0</td>\n",
       "      <td>26-100</td>\n",
       "      <td>1.0</td>\n",
       "      <td>NaN</td>\n",
       "      <td>Not eligible for coverage / N/A</td>\n",
       "      <td>NaN</td>\n",
       "      <td>No</td>\n",
       "      <td>No</td>\n",
       "      <td>I don't know</td>\n",
       "      <td>Very easy</td>\n",
       "      <td>...</td>\n",
       "      <td>Not applicable to me</td>\n",
       "      <td>Not applicable to me</td>\n",
       "      <td>39</td>\n",
       "      <td>Male</td>\n",
       "      <td>United Kingdom</td>\n",
       "      <td>NaN</td>\n",
       "      <td>United Kingdom</td>\n",
       "      <td>NaN</td>\n",
       "      <td>Back-end Developer</td>\n",
       "      <td>Sometimes</td>\n",
       "    </tr>\n",
       "    <tr>\n",
       "      <th>1</th>\n",
       "      <td>0</td>\n",
       "      <td>6-25</td>\n",
       "      <td>1.0</td>\n",
       "      <td>NaN</td>\n",
       "      <td>No</td>\n",
       "      <td>Yes</td>\n",
       "      <td>Yes</td>\n",
       "      <td>Yes</td>\n",
       "      <td>Yes</td>\n",
       "      <td>Somewhat easy</td>\n",
       "      <td>...</td>\n",
       "      <td>Rarely</td>\n",
       "      <td>Sometimes</td>\n",
       "      <td>29</td>\n",
       "      <td>male</td>\n",
       "      <td>United States of America</td>\n",
       "      <td>Illinois</td>\n",
       "      <td>United States of America</td>\n",
       "      <td>Illinois</td>\n",
       "      <td>Back-end Developer|Front-end Developer</td>\n",
       "      <td>Never</td>\n",
       "    </tr>\n",
       "    <tr>\n",
       "      <th>2</th>\n",
       "      <td>0</td>\n",
       "      <td>6-25</td>\n",
       "      <td>1.0</td>\n",
       "      <td>NaN</td>\n",
       "      <td>No</td>\n",
       "      <td>NaN</td>\n",
       "      <td>No</td>\n",
       "      <td>No</td>\n",
       "      <td>I don't know</td>\n",
       "      <td>Neither easy nor difficult</td>\n",
       "      <td>...</td>\n",
       "      <td>Not applicable to me</td>\n",
       "      <td>Not applicable to me</td>\n",
       "      <td>38</td>\n",
       "      <td>Male</td>\n",
       "      <td>United Kingdom</td>\n",
       "      <td>NaN</td>\n",
       "      <td>United Kingdom</td>\n",
       "      <td>NaN</td>\n",
       "      <td>Back-end Developer</td>\n",
       "      <td>Always</td>\n",
       "    </tr>\n",
       "    <tr>\n",
       "      <th>3</th>\n",
       "      <td>1</td>\n",
       "      <td>NaN</td>\n",
       "      <td>NaN</td>\n",
       "      <td>NaN</td>\n",
       "      <td>NaN</td>\n",
       "      <td>NaN</td>\n",
       "      <td>NaN</td>\n",
       "      <td>NaN</td>\n",
       "      <td>NaN</td>\n",
       "      <td>NaN</td>\n",
       "      <td>...</td>\n",
       "      <td>Sometimes</td>\n",
       "      <td>Sometimes</td>\n",
       "      <td>43</td>\n",
       "      <td>male</td>\n",
       "      <td>United Kingdom</td>\n",
       "      <td>NaN</td>\n",
       "      <td>United Kingdom</td>\n",
       "      <td>NaN</td>\n",
       "      <td>Supervisor/Team Lead</td>\n",
       "      <td>Sometimes</td>\n",
       "    </tr>\n",
       "    <tr>\n",
       "      <th>4</th>\n",
       "      <td>0</td>\n",
       "      <td>6-25</td>\n",
       "      <td>0.0</td>\n",
       "      <td>1.0</td>\n",
       "      <td>Yes</td>\n",
       "      <td>Yes</td>\n",
       "      <td>No</td>\n",
       "      <td>No</td>\n",
       "      <td>No</td>\n",
       "      <td>Neither easy nor difficult</td>\n",
       "      <td>...</td>\n",
       "      <td>Sometimes</td>\n",
       "      <td>Sometimes</td>\n",
       "      <td>43</td>\n",
       "      <td>Female</td>\n",
       "      <td>United States of America</td>\n",
       "      <td>Illinois</td>\n",
       "      <td>United States of America</td>\n",
       "      <td>Illinois</td>\n",
       "      <td>Executive Leadership|Supervisor/Team Lead|Dev ...</td>\n",
       "      <td>Sometimes</td>\n",
       "    </tr>\n",
       "  </tbody>\n",
       "</table>\n",
       "<p>5 rows × 63 columns</p>\n",
       "</div>"
      ]
     },
     "execution_count": 104,
     "metadata": {},
     "output_type": "execute_result"
    }
   ],
   "execution_count": 104
  },
  {
   "metadata": {
    "ExecuteTime": {
     "end_time": "2024-11-03T12:37:39.217097Z",
     "start_time": "2024-11-03T12:37:39.210735Z"
    }
   },
   "cell_type": "code",
   "source": [
    "# Name of each column\n",
    "tech_df_copy.columns "
   ],
   "id": "d9cdd24a3c291a67",
   "outputs": [
    {
     "data": {
      "text/plain": [
       "Index(['Are you self-employed?',\n",
       "       'How many employees does your company or organization have?',\n",
       "       'Is your employer primarily a tech company/organization?',\n",
       "       'Is your primary role within your company related to tech/IT?',\n",
       "       'Does your employer provide mental health benefits as part of healthcare coverage?',\n",
       "       'Do you know the options for mental health care available under your employer-provided coverage?',\n",
       "       'Has your employer ever formally discussed mental health (for example, as part of a wellness campaign or other official communication)?',\n",
       "       'Does your employer offer resources to learn more about mental health concerns and options for seeking help?',\n",
       "       'Is your anonymity protected if you choose to take advantage of mental health or substance abuse treatment resources provided by your employer?',\n",
       "       'If a mental health issue prompted you to request a medical leave from work, asking for that leave would be:',\n",
       "       'Do you think that discussing a mental health disorder with your employer would have negative consequences?',\n",
       "       'Do you think that discussing a physical health issue with your employer would have negative consequences?',\n",
       "       'Would you feel comfortable discussing a mental health disorder with your coworkers?',\n",
       "       'Would you feel comfortable discussing a mental health disorder with your direct supervisor(s)?',\n",
       "       'Do you feel that your employer takes mental health as seriously as physical health?',\n",
       "       'Have you heard of or observed negative consequences for co-workers who have been open about mental health issues in your workplace?',\n",
       "       'Do you have medical coverage (private insurance or state-provided) which includes treatment of  mental health issues?',\n",
       "       'Do you know local or online resources to seek help for a mental health disorder?',\n",
       "       'If you have been diagnosed or treated for a mental health disorder, do you ever reveal this to clients or business contacts?',\n",
       "       'If you have revealed a mental health issue to a client or business contact, do you believe this has impacted you negatively?',\n",
       "       'If you have been diagnosed or treated for a mental health disorder, do you ever reveal this to coworkers or employees?',\n",
       "       'If you have revealed a mental health issue to a coworker or employee, do you believe this has impacted you negatively?',\n",
       "       'Do you believe your productivity is ever affected by a mental health issue?',\n",
       "       'If yes, what percentage of your work time (time performing primary or secondary job functions) is affected by a mental health issue?',\n",
       "       'Do you have previous employers?',\n",
       "       'Have your previous employers provided mental health benefits?',\n",
       "       'Were you aware of the options for mental health care provided by your previous employers?',\n",
       "       'Did your previous employers ever formally discuss mental health (as part of a wellness campaign or other official communication)?',\n",
       "       'Did your previous employers provide resources to learn more about mental health issues and how to seek help?',\n",
       "       'Was your anonymity protected if you chose to take advantage of mental health or substance abuse treatment resources with previous employers?',\n",
       "       'Do you think that discussing a mental health disorder with previous employers would have negative consequences?',\n",
       "       'Do you think that discussing a physical health issue with previous employers would have negative consequences?',\n",
       "       'Would you have been willing to discuss a mental health issue with your previous co-workers?',\n",
       "       'Would you have been willing to discuss a mental health issue with your direct supervisor(s)?',\n",
       "       'Did you feel that your previous employers took mental health as seriously as physical health?',\n",
       "       'Did you hear of or observe negative consequences for co-workers with mental health issues in your previous workplaces?',\n",
       "       'Would you be willing to bring up a physical health issue with a potential employer in an interview?',\n",
       "       'Why or why not?',\n",
       "       'Would you bring up a mental health issue with a potential employer in an interview?',\n",
       "       'Why or why not?.1',\n",
       "       'Do you feel that being identified as a person with a mental health issue would hurt your career?',\n",
       "       'Do you think that team members/co-workers would view you more negatively if they knew you suffered from a mental health issue?',\n",
       "       'How willing would you be to share with friends and family that you have a mental illness?',\n",
       "       'Have you observed or experienced an unsupportive or badly handled response to a mental health issue in your current or previous workplace?',\n",
       "       'Have your observations of how another individual who discussed a mental health disorder made you less likely to reveal a mental health issue yourself in your current workplace?',\n",
       "       'Do you have a family history of mental illness?',\n",
       "       'Have you had a mental health disorder in the past?',\n",
       "       'Do you currently have a mental health disorder?',\n",
       "       'If yes, what condition(s) have you been diagnosed with?',\n",
       "       'If maybe, what condition(s) do you believe you have?',\n",
       "       'Have you been diagnosed with a mental health condition by a medical professional?',\n",
       "       'If so, what condition(s) were you diagnosed with?',\n",
       "       'Have you ever sought treatment for a mental health issue from a mental health professional?',\n",
       "       'If you have a mental health issue, do you feel that it interferes with your work when being treated effectively?',\n",
       "       'If you have a mental health issue, do you feel that it interferes with your work when NOT being treated effectively?',\n",
       "       'What is your age?', 'What is your gender?',\n",
       "       'What country do you live in?',\n",
       "       'What US state or territory do you live in?',\n",
       "       'What country do you work in?',\n",
       "       'What US state or territory do you work in?',\n",
       "       'Which of the following best describes your work position?',\n",
       "       'Do you work remotely?'],\n",
       "      dtype='object')"
      ]
     },
     "execution_count": 105,
     "metadata": {},
     "output_type": "execute_result"
    }
   ],
   "execution_count": 105
  },
  {
   "metadata": {
    "ExecuteTime": {
     "end_time": "2024-11-03T12:37:39.284471Z",
     "start_time": "2024-11-03T12:37:39.278347Z"
    }
   },
   "cell_type": "code",
   "source": [
    "# check the data types of each column\n",
    "tech_df_copy.dtypes"
   ],
   "id": "92b9e8840ec3bdf",
   "outputs": [
    {
     "data": {
      "text/plain": [
       "Are you self-employed?                                                                 int64\n",
       "How many employees does your company or organization have?                            object\n",
       "Is your employer primarily a tech company/organization?                              float64\n",
       "Is your primary role within your company related to tech/IT?                         float64\n",
       "Does your employer provide mental health benefits as part of healthcare coverage?     object\n",
       "                                                                                      ...   \n",
       "What US state or territory do you live in?                                            object\n",
       "What country do you work in?                                                          object\n",
       "What US state or territory do you work in?                                            object\n",
       "Which of the following best describes your work position?                             object\n",
       "Do you work remotely?                                                                 object\n",
       "Length: 63, dtype: object"
      ]
     },
     "execution_count": 106,
     "metadata": {},
     "output_type": "execute_result"
    }
   ],
   "execution_count": 106
  },
  {
   "metadata": {
    "ExecuteTime": {
     "end_time": "2024-11-03T12:37:39.356400Z",
     "start_time": "2024-11-03T12:37:39.330337Z"
    }
   },
   "cell_type": "code",
   "source": [
    "# give an overlook of the dataset\n",
    "# only looks at numerical columns\n",
    "tech_df_copy.describe()"
   ],
   "id": "c5373e368fae1ea9",
   "outputs": [
    {
     "data": {
      "text/plain": [
       "       Are you self-employed?  \\\n",
       "count             1433.000000   \n",
       "mean                 0.200279   \n",
       "std                  0.400349   \n",
       "min                  0.000000   \n",
       "25%                  0.000000   \n",
       "50%                  0.000000   \n",
       "75%                  0.000000   \n",
       "max                  1.000000   \n",
       "\n",
       "       Is your employer primarily a tech company/organization?  \\\n",
       "count                                        1146.000000         \n",
       "mean                                            0.770506         \n",
       "std                                             0.420691         \n",
       "min                                             0.000000         \n",
       "25%                                             1.000000         \n",
       "50%                                             1.000000         \n",
       "75%                                             1.000000         \n",
       "max                                             1.000000         \n",
       "\n",
       "       Is your primary role within your company related to tech/IT?  \\\n",
       "count                                         263.000000              \n",
       "mean                                            0.942966              \n",
       "std                                             0.232350              \n",
       "min                                             0.000000              \n",
       "25%                                             1.000000              \n",
       "50%                                             1.000000              \n",
       "75%                                             1.000000              \n",
       "max                                             1.000000              \n",
       "\n",
       "       Do you have medical coverage (private insurance or state-provided) which includes treatment of  mental health issues?  \\\n",
       "count                                         287.000000                                                                       \n",
       "mean                                            0.644599                                                                       \n",
       "std                                             0.479471                                                                       \n",
       "min                                             0.000000                                                                       \n",
       "25%                                             0.000000                                                                       \n",
       "50%                                             1.000000                                                                       \n",
       "75%                                             1.000000                                                                       \n",
       "max                                             1.000000                                                                       \n",
       "\n",
       "       Do you have previous employers?  \\\n",
       "count                      1433.000000   \n",
       "mean                          0.882066   \n",
       "std                           0.322643   \n",
       "min                           0.000000   \n",
       "25%                           1.000000   \n",
       "50%                           1.000000   \n",
       "75%                           1.000000   \n",
       "max                           1.000000   \n",
       "\n",
       "       Have you ever sought treatment for a mental health issue from a mental health professional?  \\\n",
       "count                                        1433.000000                                             \n",
       "mean                                            0.585485                                             \n",
       "std                                             0.492810                                             \n",
       "min                                             0.000000                                             \n",
       "25%                                             0.000000                                             \n",
       "50%                                             1.000000                                             \n",
       "75%                                             1.000000                                             \n",
       "max                                             1.000000                                             \n",
       "\n",
       "       What is your age?  \n",
       "count        1433.000000  \n",
       "mean           34.286113  \n",
       "std            11.290931  \n",
       "min             3.000000  \n",
       "25%            28.000000  \n",
       "50%            33.000000  \n",
       "75%            39.000000  \n",
       "max           323.000000  "
      ],
      "text/html": [
       "<div>\n",
       "<style scoped>\n",
       "    .dataframe tbody tr th:only-of-type {\n",
       "        vertical-align: middle;\n",
       "    }\n",
       "\n",
       "    .dataframe tbody tr th {\n",
       "        vertical-align: top;\n",
       "    }\n",
       "\n",
       "    .dataframe thead th {\n",
       "        text-align: right;\n",
       "    }\n",
       "</style>\n",
       "<table border=\"1\" class=\"dataframe\">\n",
       "  <thead>\n",
       "    <tr style=\"text-align: right;\">\n",
       "      <th></th>\n",
       "      <th>Are you self-employed?</th>\n",
       "      <th>Is your employer primarily a tech company/organization?</th>\n",
       "      <th>Is your primary role within your company related to tech/IT?</th>\n",
       "      <th>Do you have medical coverage (private insurance or state-provided) which includes treatment of  mental health issues?</th>\n",
       "      <th>Do you have previous employers?</th>\n",
       "      <th>Have you ever sought treatment for a mental health issue from a mental health professional?</th>\n",
       "      <th>What is your age?</th>\n",
       "    </tr>\n",
       "  </thead>\n",
       "  <tbody>\n",
       "    <tr>\n",
       "      <th>count</th>\n",
       "      <td>1433.000000</td>\n",
       "      <td>1146.000000</td>\n",
       "      <td>263.000000</td>\n",
       "      <td>287.000000</td>\n",
       "      <td>1433.000000</td>\n",
       "      <td>1433.000000</td>\n",
       "      <td>1433.000000</td>\n",
       "    </tr>\n",
       "    <tr>\n",
       "      <th>mean</th>\n",
       "      <td>0.200279</td>\n",
       "      <td>0.770506</td>\n",
       "      <td>0.942966</td>\n",
       "      <td>0.644599</td>\n",
       "      <td>0.882066</td>\n",
       "      <td>0.585485</td>\n",
       "      <td>34.286113</td>\n",
       "    </tr>\n",
       "    <tr>\n",
       "      <th>std</th>\n",
       "      <td>0.400349</td>\n",
       "      <td>0.420691</td>\n",
       "      <td>0.232350</td>\n",
       "      <td>0.479471</td>\n",
       "      <td>0.322643</td>\n",
       "      <td>0.492810</td>\n",
       "      <td>11.290931</td>\n",
       "    </tr>\n",
       "    <tr>\n",
       "      <th>min</th>\n",
       "      <td>0.000000</td>\n",
       "      <td>0.000000</td>\n",
       "      <td>0.000000</td>\n",
       "      <td>0.000000</td>\n",
       "      <td>0.000000</td>\n",
       "      <td>0.000000</td>\n",
       "      <td>3.000000</td>\n",
       "    </tr>\n",
       "    <tr>\n",
       "      <th>25%</th>\n",
       "      <td>0.000000</td>\n",
       "      <td>1.000000</td>\n",
       "      <td>1.000000</td>\n",
       "      <td>0.000000</td>\n",
       "      <td>1.000000</td>\n",
       "      <td>0.000000</td>\n",
       "      <td>28.000000</td>\n",
       "    </tr>\n",
       "    <tr>\n",
       "      <th>50%</th>\n",
       "      <td>0.000000</td>\n",
       "      <td>1.000000</td>\n",
       "      <td>1.000000</td>\n",
       "      <td>1.000000</td>\n",
       "      <td>1.000000</td>\n",
       "      <td>1.000000</td>\n",
       "      <td>33.000000</td>\n",
       "    </tr>\n",
       "    <tr>\n",
       "      <th>75%</th>\n",
       "      <td>0.000000</td>\n",
       "      <td>1.000000</td>\n",
       "      <td>1.000000</td>\n",
       "      <td>1.000000</td>\n",
       "      <td>1.000000</td>\n",
       "      <td>1.000000</td>\n",
       "      <td>39.000000</td>\n",
       "    </tr>\n",
       "    <tr>\n",
       "      <th>max</th>\n",
       "      <td>1.000000</td>\n",
       "      <td>1.000000</td>\n",
       "      <td>1.000000</td>\n",
       "      <td>1.000000</td>\n",
       "      <td>1.000000</td>\n",
       "      <td>1.000000</td>\n",
       "      <td>323.000000</td>\n",
       "    </tr>\n",
       "  </tbody>\n",
       "</table>\n",
       "</div>"
      ]
     },
     "execution_count": 107,
     "metadata": {},
     "output_type": "execute_result"
    }
   ],
   "execution_count": 107
  },
  {
   "metadata": {
    "ExecuteTime": {
     "end_time": "2024-11-03T12:37:39.470062Z",
     "start_time": "2024-11-03T12:37:39.461942Z"
    }
   },
   "cell_type": "code",
   "source": [
    "# check for missing values\n",
    "missing_values = tech_df_copy.isnull().sum() \n",
    "missing_values"
   ],
   "id": "ff440a4aa9b643e4",
   "outputs": [
    {
     "data": {
      "text/plain": [
       "Are you self-employed?                                                                  0\n",
       "How many employees does your company or organization have?                            287\n",
       "Is your employer primarily a tech company/organization?                               287\n",
       "Is your primary role within your company related to tech/IT?                         1170\n",
       "Does your employer provide mental health benefits as part of healthcare coverage?     287\n",
       "                                                                                     ... \n",
       "What US state or territory do you live in?                                            593\n",
       "What country do you work in?                                                            0\n",
       "What US state or territory do you work in?                                            582\n",
       "Which of the following best describes your work position?                               0\n",
       "Do you work remotely?                                                                   0\n",
       "Length: 63, dtype: int64"
      ]
     },
     "execution_count": 108,
     "metadata": {},
     "output_type": "execute_result"
    }
   ],
   "execution_count": 108
  },
  {
   "metadata": {
    "ExecuteTime": {
     "end_time": "2024-11-03T12:37:39.602643Z",
     "start_time": "2024-11-03T12:37:39.595751Z"
    }
   },
   "cell_type": "code",
   "source": [
    "# Find the count of 1's (are you self-employed) in \"Are you self-employed?\"\n",
    "tech_df_copy['Are you self-employed?'].value_counts()"
   ],
   "id": "7d2b2c93a79585e3",
   "outputs": [
    {
     "data": {
      "text/plain": [
       "Are you self-employed?\n",
       "0    1146\n",
       "1     287\n",
       "Name: count, dtype: int64"
      ]
     },
     "execution_count": 109,
     "metadata": {},
     "output_type": "execute_result"
    }
   ],
   "execution_count": 109
  },
  {
   "metadata": {
    "ExecuteTime": {
     "end_time": "2024-11-03T12:37:39.721527Z",
     "start_time": "2024-11-03T12:37:39.713807Z"
    }
   },
   "cell_type": "code",
   "source": [
    "# Delete all rows where \"Are you self-employed?\" is 1, because they are otherwise empty rows.\n",
    "tech_df_copy = tech_df_copy[tech_df_copy['Are you self-employed?'] == 0]\n",
    "# only the rows where \"Are you self-employed?\" is 0 are kept.\n",
    "\n"
   ],
   "id": "7bdf7ff14d897737",
   "outputs": [],
   "execution_count": 110
  },
  {
   "metadata": {
    "ExecuteTime": {
     "end_time": "2024-11-03T12:37:39.812791Z",
     "start_time": "2024-11-03T12:37:39.805690Z"
    }
   },
   "cell_type": "code",
   "source": [
    "missing_values = tech_df_copy.isnull().sum() \n",
    "missing_values"
   ],
   "id": "17fe6aa1edf5deab",
   "outputs": [
    {
     "data": {
      "text/plain": [
       "Are you self-employed?                                                                 0\n",
       "How many employees does your company or organization have?                             0\n",
       "Is your employer primarily a tech company/organization?                                0\n",
       "Is your primary role within your company related to tech/IT?                         883\n",
       "Does your employer provide mental health benefits as part of healthcare coverage?      0\n",
       "                                                                                    ... \n",
       "What US state or territory do you live in?                                           437\n",
       "What country do you work in?                                                           0\n",
       "What US state or territory do you work in?                                           430\n",
       "Which of the following best describes your work position?                              0\n",
       "Do you work remotely?                                                                  0\n",
       "Length: 63, dtype: int64"
      ]
     },
     "execution_count": 111,
     "metadata": {},
     "output_type": "execute_result"
    }
   ],
   "execution_count": 111
  },
  {
   "metadata": {
    "ExecuteTime": {
     "end_time": "2024-11-03T12:37:39.876270Z",
     "start_time": "2024-11-03T12:37:39.872034Z"
    }
   },
   "cell_type": "code",
   "source": [
    "tech_df_copy.shape\n",
    "# Check that the number of rows and columns are correct (after removing the rows that were remote workers)"
   ],
   "id": "f60efbe83844cd7f",
   "outputs": [
    {
     "data": {
      "text/plain": [
       "(1146, 63)"
      ]
     },
     "execution_count": 112,
     "metadata": {},
     "output_type": "execute_result"
    }
   ],
   "execution_count": 112
  },
  {
   "metadata": {
    "ExecuteTime": {
     "end_time": "2024-11-03T12:37:39.949361Z",
     "start_time": "2024-11-03T12:37:39.943608Z"
    }
   },
   "cell_type": "code",
   "source": [
    "# Fill in Gender column missing values with \"missing\".\n",
    "tech_df_copy['What is your gender?'] = tech_df_copy['What is your gender?'].fillna('missing')"
   ],
   "id": "5f815b85f8ebbf99",
   "outputs": [],
   "execution_count": 113
  },
  {
   "metadata": {
    "ExecuteTime": {
     "end_time": "2024-11-03T12:37:39.996769Z",
     "start_time": "2024-11-03T12:37:39.991581Z"
    }
   },
   "cell_type": "code",
   "source": [
    "# Fill in the missing values with \"missing\" as assumed MNAR\n",
    "tech_df_copy['Have you observed or experienced an unsupportive or badly handled response to a mental health issue in your current or previous workplace?'] = tech_df_copy['Have you observed or experienced an unsupportive or badly handled response to a mental health issue in your current or previous workplace?'].fillna('missing')"
   ],
   "id": "4994dc392dde0c53",
   "outputs": [],
   "execution_count": 114
  },
  {
   "metadata": {
    "ExecuteTime": {
     "end_time": "2024-11-03T12:37:40.052383Z",
     "start_time": "2024-11-03T12:37:40.042353Z"
    }
   },
   "cell_type": "code",
   "source": [
    "missing_values = tech_df_copy.isnull().sum() \n",
    "missing_values\n"
   ],
   "id": "d884d2e46c58c446",
   "outputs": [
    {
     "data": {
      "text/plain": [
       "Are you self-employed?                                                                 0\n",
       "How many employees does your company or organization have?                             0\n",
       "Is your employer primarily a tech company/organization?                                0\n",
       "Is your primary role within your company related to tech/IT?                         883\n",
       "Does your employer provide mental health benefits as part of healthcare coverage?      0\n",
       "                                                                                    ... \n",
       "What US state or territory do you live in?                                           437\n",
       "What country do you work in?                                                           0\n",
       "What US state or territory do you work in?                                           430\n",
       "Which of the following best describes your work position?                              0\n",
       "Do you work remotely?                                                                  0\n",
       "Length: 63, dtype: int64"
      ]
     },
     "execution_count": 115,
     "metadata": {},
     "output_type": "execute_result"
    }
   ],
   "execution_count": 115
  },
  {
   "metadata": {
    "ExecuteTime": {
     "end_time": "2024-11-03T12:37:40.104719Z",
     "start_time": "2024-11-03T12:37:40.095617Z"
    }
   },
   "cell_type": "code",
   "source": [
    "columns_to_delete = [\n",
    "    'Do you believe your productivity is ever affected by a mental health issue?', \n",
    "    'If yes, what percentage of your work time (time performing primary or secondary job functions) is affected by a mental health issue?', \n",
    "    'Do you know local or online resources to seek help for a mental health disorder?', \n",
    "    'If you have been diagnosed or treated for a mental health disorder, do you ever reveal this to clients or business contacts?', \n",
    "    'If you have been diagnosed or treated for a mental health disorder, do you ever reveal this to coworkers or employees?', \n",
    "    'Do you have medical coverage (private insurance or state-provided) which includes treatment of  mental health issues?', \n",
    "    'If you have revealed a mental health issue to a client or business contact, do you believe this has impacted you negatively?', \n",
    "    'If you have revealed a mental health issue to a coworker or employee, do you believe this has impacted you negatively?']\n",
    "\n",
    "tech_df_copy = tech_df_copy.drop(columns=columns_to_delete, axis=1)"
   ],
   "id": "88dc0f8a79caa447",
   "outputs": [],
   "execution_count": 116
  },
  {
   "metadata": {
    "ExecuteTime": {
     "end_time": "2024-11-03T12:37:40.164546Z",
     "start_time": "2024-11-03T12:37:40.158451Z"
    }
   },
   "cell_type": "code",
   "source": [
    "# check the data\n",
    "tech_df_copy.shape"
   ],
   "id": "fbb6d53338a41359",
   "outputs": [
    {
     "data": {
      "text/plain": [
       "(1146, 55)"
      ]
     },
     "execution_count": 117,
     "metadata": {},
     "output_type": "execute_result"
    }
   ],
   "execution_count": 117
  },
  {
   "metadata": {
    "ExecuteTime": {
     "end_time": "2024-11-03T12:37:40.225172Z",
     "start_time": "2024-11-03T12:37:40.219176Z"
    }
   },
   "cell_type": "code",
   "source": [
    "# Fill in missing values with 0, while assuming that the missing values are MNAR, because the individuals do not live or work in the US.\n",
    "tech_df_copy['What US state or territory do you work in?'] = \\\n",
    "    (tech_df_copy['What US state or territory do you work in?'].fillna('0'))\n",
    "\n",
    "tech_df_copy['What US state or territory do you live in?'] = \\\n",
    "    (tech_df_copy['What US state or territory do you live in?'].fillna('0'))"
   ],
   "id": "552902d7cc53ac18",
   "outputs": [],
   "execution_count": 118
  },
  {
   "metadata": {
    "ExecuteTime": {
     "end_time": "2024-11-03T12:37:40.285803Z",
     "start_time": "2024-11-03T12:37:40.271771Z"
    }
   },
   "cell_type": "code",
   "source": [
    "# Replace missing value in column with 0, as it should not have an answer.\n",
    "\n",
    "tech_df_copy.loc[\n",
    "    tech_df_copy['Have you been diagnosed with a mental health condition by a medical professional?'] == 'No',\n",
    "    'If so, what condition(s) were you diagnosed with?'] = \\\n",
    "    (tech_df_copy['If so, what condition(s) were you diagnosed with?'].fillna('0'))\n",
    "\n",
    "tech_df_copy.loc[\n",
    "    (tech_df_copy['Do you currently have a mental health disorder?'] == 'No') | \n",
    "    (tech_df_copy['Do you currently have a mental health disorder?'] == 'Maybe'),\n",
    "    'If yes, what condition(s) have you been diagnosed with?'] = \\\n",
    "    tech_df_copy['If yes, what condition(s) have you been diagnosed with?'].fillna('0')\n",
    "\n",
    "tech_df_copy.loc[\n",
    "    (tech_df_copy['Do you currently have a mental health disorder?'] == 'No') | \n",
    "    (tech_df_copy['Do you currently have a mental health disorder?'] == 'Yes'),\n",
    "    'If maybe, what condition(s) do you believe you have?'] = \\\n",
    "    tech_df_copy['If maybe, what condition(s) do you believe you have?'].fillna('0')\n",
    "\n",
    "# Replace missing value with 0, because it was left blank. MNAR.\n",
    "\n",
    "tech_df_copy.loc[\n",
    "    tech_df_copy['Have you been diagnosed with a mental health condition by a medical professional?'] == 'Yes',\n",
    "    'If so, what condition(s) were you diagnosed with?'] = \\\n",
    "    (tech_df_copy['If so, what condition(s) were you diagnosed with?'].fillna('missing'))\n",
    "\n",
    "tech_df_copy.loc[\n",
    "    tech_df_copy['Do you currently have a mental health disorder?'] == 'Yes',\n",
    "    'If yes, what condition(s) have you been diagnosed with?'] = \\\n",
    "    (tech_df_copy['If yes, what condition(s) have you been diagnosed with?'].fillna('missing'))\n",
    "\n",
    "tech_df_copy.loc[\n",
    "    tech_df_copy['Do you currently have a mental health disorder?'] == 'Maybe',\n",
    "    'If maybe, what condition(s) do you believe you have?'] = \\\n",
    "    (tech_df_copy['If maybe, what condition(s) do you believe you have?'].fillna('missing'))\n"
   ],
   "id": "8db05187d580864b",
   "outputs": [],
   "execution_count": 119
  },
  {
   "metadata": {
    "ExecuteTime": {
     "end_time": "2024-11-03T12:37:40.305837Z",
     "start_time": "2024-11-03T12:37:40.295809Z"
    }
   },
   "cell_type": "code",
   "source": [
    "# Calculate percentage of missing values in each column\n",
    "missing_percentage = tech_df_copy.isnull().sum() / len(tech_df_copy) * 100\n",
    "missing_percentage"
   ],
   "id": "1a6fea7b43eb26e1",
   "outputs": [
    {
     "data": {
      "text/plain": [
       "Are you self-employed?                                                                                                                                                               0.000000\n",
       "How many employees does your company or organization have?                                                                                                                           0.000000\n",
       "Is your employer primarily a tech company/organization?                                                                                                                              0.000000\n",
       "Is your primary role within your company related to tech/IT?                                                                                                                        77.050611\n",
       "Does your employer provide mental health benefits as part of healthcare coverage?                                                                                                    0.000000\n",
       "Do you know the options for mental health care available under your employer-provided coverage?                                                                                     11.605585\n",
       "Has your employer ever formally discussed mental health (for example, as part of a wellness campaign or other official communication)?                                               0.000000\n",
       "Does your employer offer resources to learn more about mental health concerns and options for seeking help?                                                                          0.000000\n",
       "Is your anonymity protected if you choose to take advantage of mental health or substance abuse treatment resources provided by your employer?                                       0.000000\n",
       "If a mental health issue prompted you to request a medical leave from work, asking for that leave would be:                                                                          0.000000\n",
       "Do you think that discussing a mental health disorder with your employer would have negative consequences?                                                                           0.000000\n",
       "Do you think that discussing a physical health issue with your employer would have negative consequences?                                                                            0.000000\n",
       "Would you feel comfortable discussing a mental health disorder with your coworkers?                                                                                                  0.000000\n",
       "Would you feel comfortable discussing a mental health disorder with your direct supervisor(s)?                                                                                       0.000000\n",
       "Do you feel that your employer takes mental health as seriously as physical health?                                                                                                  0.000000\n",
       "Have you heard of or observed negative consequences for co-workers who have been open about mental health issues in your workplace?                                                  0.000000\n",
       "Do you have previous employers?                                                                                                                                                      0.000000\n",
       "Have your previous employers provided mental health benefits?                                                                                                                       11.431065\n",
       "Were you aware of the options for mental health care provided by your previous employers?                                                                                           11.431065\n",
       "Did your previous employers ever formally discuss mental health (as part of a wellness campaign or other official communication)?                                                   11.431065\n",
       "Did your previous employers provide resources to learn more about mental health issues and how to seek help?                                                                        11.431065\n",
       "Was your anonymity protected if you chose to take advantage of mental health or substance abuse treatment resources with previous employers?                                        11.431065\n",
       "Do you think that discussing a mental health disorder with previous employers would have negative consequences?                                                                     11.431065\n",
       "Do you think that discussing a physical health issue with previous employers would have negative consequences?                                                                      11.431065\n",
       "Would you have been willing to discuss a mental health issue with your previous co-workers?                                                                                         11.431065\n",
       "Would you have been willing to discuss a mental health issue with your direct supervisor(s)?                                                                                        11.431065\n",
       "Did you feel that your previous employers took mental health as seriously as physical health?                                                                                       11.431065\n",
       "Did you hear of or observe negative consequences for co-workers with mental health issues in your previous workplaces?                                                              11.431065\n",
       "Would you be willing to bring up a physical health issue with a potential employer in an interview?                                                                                  0.000000\n",
       "Why or why not?                                                                                                                                                                     24.083770\n",
       "Would you bring up a mental health issue with a potential employer in an interview?                                                                                                  0.000000\n",
       "Why or why not?.1                                                                                                                                                                   21.815009\n",
       "Do you feel that being identified as a person with a mental health issue would hurt your career?                                                                                     0.000000\n",
       "Do you think that team members/co-workers would view you more negatively if they knew you suffered from a mental health issue?                                                       0.000000\n",
       "How willing would you be to share with friends and family that you have a mental illness?                                                                                            0.000000\n",
       "Have you observed or experienced an unsupportive or badly handled response to a mental health issue in your current or previous workplace?                                           0.000000\n",
       "Have your observations of how another individual who discussed a mental health disorder made you less likely to reveal a mental health issue yourself in your current workplace?    55.410122\n",
       "Do you have a family history of mental illness?                                                                                                                                      0.000000\n",
       "Have you had a mental health disorder in the past?                                                                                                                                   0.000000\n",
       "Do you currently have a mental health disorder?                                                                                                                                      0.000000\n",
       "If yes, what condition(s) have you been diagnosed with?                                                                                                                              0.000000\n",
       "If maybe, what condition(s) do you believe you have?                                                                                                                                 0.000000\n",
       "Have you been diagnosed with a mental health condition by a medical professional?                                                                                                    0.000000\n",
       "If so, what condition(s) were you diagnosed with?                                                                                                                                    0.000000\n",
       "Have you ever sought treatment for a mental health issue from a mental health professional?                                                                                          0.000000\n",
       "If you have a mental health issue, do you feel that it interferes with your work when being treated effectively?                                                                     0.000000\n",
       "If you have a mental health issue, do you feel that it interferes with your work when NOT being treated effectively?                                                                 0.000000\n",
       "What is your age?                                                                                                                                                                    0.000000\n",
       "What is your gender?                                                                                                                                                                 0.000000\n",
       "What country do you live in?                                                                                                                                                         0.000000\n",
       "What US state or territory do you live in?                                                                                                                                           0.000000\n",
       "What country do you work in?                                                                                                                                                         0.000000\n",
       "What US state or territory do you work in?                                                                                                                                           0.000000\n",
       "Which of the following best describes your work position?                                                                                                                            0.000000\n",
       "Do you work remotely?                                                                                                                                                                0.000000\n",
       "dtype: float64"
      ]
     },
     "execution_count": 120,
     "metadata": {},
     "output_type": "execute_result"
    }
   ],
   "execution_count": 120
  },
  {
   "metadata": {
    "ExecuteTime": {
     "end_time": "2024-11-03T12:37:40.354800Z",
     "start_time": "2024-11-03T12:37:40.350297Z"
    }
   },
   "cell_type": "code",
   "source": [
    "# Drop columns with more than 60% missing values\n",
    "columns_to_delete = ['Is your primary role within your company related to tech/IT?']\n",
    "tech_df_copy = tech_df_copy.drop(columns=columns_to_delete, axis=1)\n"
   ],
   "id": "50330d48467fbb03",
   "outputs": [],
   "execution_count": 121
  },
  {
   "metadata": {
    "ExecuteTime": {
     "end_time": "2024-11-03T12:37:40.402428Z",
     "start_time": "2024-11-03T12:37:40.396463Z"
    }
   },
   "cell_type": "code",
   "source": [
    "# Input missing value with \"missing\" as assumed MNAR-- Concerned Mode with a percentage of 55% would introduce too much bias. While treating as its own separate category would be more appropriate.\n",
    "\n",
    "tech_df_copy['Have your observations of how another individual who discussed a mental health disorder made you less likely to reveal a mental health issue yourself in your current workplace?'] = \\\n",
    "    (tech_df_copy['Have your observations of how another individual who discussed a mental health disorder made you less likely to reveal a mental health issue yourself in your current workplace?'].fillna('missing'))\n",
    "\n",
    "# Will fill in missing values with \"missing\" as assumed MNAR for the following columns.\n",
    "tech_df_copy['Why or why not?.1'] = \\\n",
    "    (tech_df_copy['Why or why not?.1'].fillna('missing'))\n",
    "\n",
    "tech_df_copy['Why or why not?'] = \\\n",
    "    (tech_df_copy['Why or why not?'].fillna('missing'))\n",
    "\n"
   ],
   "id": "d266bf054052c05e",
   "outputs": [],
   "execution_count": 122
  },
  {
   "metadata": {
    "ExecuteTime": {
     "end_time": "2024-11-03T12:37:40.427616Z",
     "start_time": "2024-11-03T12:37:40.421996Z"
    }
   },
   "cell_type": "code",
   "source": [
    "# Missing Value for a non-sensitive question? Will treat as MNAR and fill in with \"missing\"\n",
    "tech_df_copy['Do you know the options for mental health care available under your employer-provided coverage?'] = \\\n",
    "    (tech_df_copy['Do you know the options for mental health care available under your employer-provided coverage?'].fillna('missing'))"
   ],
   "id": "e3832743348dd80b",
   "outputs": [],
   "execution_count": 123
  },
  {
   "metadata": {
    "ExecuteTime": {
     "end_time": "2024-11-03T12:37:40.453711Z",
     "start_time": "2024-11-03T12:37:40.445986Z"
    }
   },
   "cell_type": "code",
   "source": [
    "# Fill in the remaining columns with \"0\" as assumed non-applicable as all related to previous employer.  I suspect that the missing values are due to the fact that the individual does not have a previous employer. As all of these columns all have the same missing number of participants. 131.\n",
    "\n",
    "columns_to_fill = [ 'Have your previous employers provided mental health benefits?', \n",
    "                    'Were you aware of the options for mental health care provided by your previous employers?', \n",
    "                    'Did your previous employers ever formally discuss mental health (as part of a wellness campaign or other official communication)?', \n",
    "                    'Did your previous employers provide resources to learn more about mental health issues and how to seek help?', \n",
    "                    'Was your anonymity protected if you chose to take advantage of mental health or substance abuse treatment resources with previous employers?',\n",
    "                    'Do you think that discussing a mental health disorder with previous employers would have negative consequences?',\n",
    "                    'Do you think that discussing a physical health issue with previous employers would have negative consequences?',\n",
    "                    'Would you have been willing to discuss a mental health issue with your previous co-workers?',\n",
    "                    'Would you have been willing to discuss a mental health issue with your direct supervisor(s)?',\n",
    "                    'Did you feel that your previous employers took mental health as seriously as physical health?',\n",
    "                    'Did you hear of or observe negative consequences for co-workers with mental health issues in your previous workplaces?']\n",
    "\n",
    "tech_df_copy[columns_to_fill] = tech_df_copy[columns_to_fill].fillna('0')\n"
   ],
   "id": "91e879f6854dfce9",
   "outputs": [],
   "execution_count": 124
  },
  {
   "metadata": {
    "ExecuteTime": {
     "end_time": "2024-11-03T12:37:40.480543Z",
     "start_time": "2024-11-03T12:37:40.470937Z"
    }
   },
   "cell_type": "code",
   "source": [
    "# Check for missing values\n",
    "missing_values = tech_df_copy.isnull().sum()\n",
    "missing_values"
   ],
   "id": "fc3da386d820373d",
   "outputs": [
    {
     "data": {
      "text/plain": [
       "Are you self-employed?                                                                                                                                                              0\n",
       "How many employees does your company or organization have?                                                                                                                          0\n",
       "Is your employer primarily a tech company/organization?                                                                                                                             0\n",
       "Does your employer provide mental health benefits as part of healthcare coverage?                                                                                                   0\n",
       "Do you know the options for mental health care available under your employer-provided coverage?                                                                                     0\n",
       "Has your employer ever formally discussed mental health (for example, as part of a wellness campaign or other official communication)?                                              0\n",
       "Does your employer offer resources to learn more about mental health concerns and options for seeking help?                                                                         0\n",
       "Is your anonymity protected if you choose to take advantage of mental health or substance abuse treatment resources provided by your employer?                                      0\n",
       "If a mental health issue prompted you to request a medical leave from work, asking for that leave would be:                                                                         0\n",
       "Do you think that discussing a mental health disorder with your employer would have negative consequences?                                                                          0\n",
       "Do you think that discussing a physical health issue with your employer would have negative consequences?                                                                           0\n",
       "Would you feel comfortable discussing a mental health disorder with your coworkers?                                                                                                 0\n",
       "Would you feel comfortable discussing a mental health disorder with your direct supervisor(s)?                                                                                      0\n",
       "Do you feel that your employer takes mental health as seriously as physical health?                                                                                                 0\n",
       "Have you heard of or observed negative consequences for co-workers who have been open about mental health issues in your workplace?                                                 0\n",
       "Do you have previous employers?                                                                                                                                                     0\n",
       "Have your previous employers provided mental health benefits?                                                                                                                       0\n",
       "Were you aware of the options for mental health care provided by your previous employers?                                                                                           0\n",
       "Did your previous employers ever formally discuss mental health (as part of a wellness campaign or other official communication)?                                                   0\n",
       "Did your previous employers provide resources to learn more about mental health issues and how to seek help?                                                                        0\n",
       "Was your anonymity protected if you chose to take advantage of mental health or substance abuse treatment resources with previous employers?                                        0\n",
       "Do you think that discussing a mental health disorder with previous employers would have negative consequences?                                                                     0\n",
       "Do you think that discussing a physical health issue with previous employers would have negative consequences?                                                                      0\n",
       "Would you have been willing to discuss a mental health issue with your previous co-workers?                                                                                         0\n",
       "Would you have been willing to discuss a mental health issue with your direct supervisor(s)?                                                                                        0\n",
       "Did you feel that your previous employers took mental health as seriously as physical health?                                                                                       0\n",
       "Did you hear of or observe negative consequences for co-workers with mental health issues in your previous workplaces?                                                              0\n",
       "Would you be willing to bring up a physical health issue with a potential employer in an interview?                                                                                 0\n",
       "Why or why not?                                                                                                                                                                     0\n",
       "Would you bring up a mental health issue with a potential employer in an interview?                                                                                                 0\n",
       "Why or why not?.1                                                                                                                                                                   0\n",
       "Do you feel that being identified as a person with a mental health issue would hurt your career?                                                                                    0\n",
       "Do you think that team members/co-workers would view you more negatively if they knew you suffered from a mental health issue?                                                      0\n",
       "How willing would you be to share with friends and family that you have a mental illness?                                                                                           0\n",
       "Have you observed or experienced an unsupportive or badly handled response to a mental health issue in your current or previous workplace?                                          0\n",
       "Have your observations of how another individual who discussed a mental health disorder made you less likely to reveal a mental health issue yourself in your current workplace?    0\n",
       "Do you have a family history of mental illness?                                                                                                                                     0\n",
       "Have you had a mental health disorder in the past?                                                                                                                                  0\n",
       "Do you currently have a mental health disorder?                                                                                                                                     0\n",
       "If yes, what condition(s) have you been diagnosed with?                                                                                                                             0\n",
       "If maybe, what condition(s) do you believe you have?                                                                                                                                0\n",
       "Have you been diagnosed with a mental health condition by a medical professional?                                                                                                   0\n",
       "If so, what condition(s) were you diagnosed with?                                                                                                                                   0\n",
       "Have you ever sought treatment for a mental health issue from a mental health professional?                                                                                         0\n",
       "If you have a mental health issue, do you feel that it interferes with your work when being treated effectively?                                                                    0\n",
       "If you have a mental health issue, do you feel that it interferes with your work when NOT being treated effectively?                                                                0\n",
       "What is your age?                                                                                                                                                                   0\n",
       "What is your gender?                                                                                                                                                                0\n",
       "What country do you live in?                                                                                                                                                        0\n",
       "What US state or territory do you live in?                                                                                                                                          0\n",
       "What country do you work in?                                                                                                                                                        0\n",
       "What US state or territory do you work in?                                                                                                                                          0\n",
       "Which of the following best describes your work position?                                                                                                                           0\n",
       "Do you work remotely?                                                                                                                                                               0\n",
       "dtype: int64"
      ]
     },
     "execution_count": 125,
     "metadata": {},
     "output_type": "execute_result"
    }
   ],
   "execution_count": 125
  },
  {
   "metadata": {
    "ExecuteTime": {
     "end_time": "2024-11-03T12:37:40.585759Z",
     "start_time": "2024-11-03T12:37:40.539085Z"
    }
   },
   "cell_type": "code",
   "source": [
    "# Save DataFrame to CSV File to be used in next module: Encode_and_Scale\n",
    "\n",
    "tech_df_copy.to_csv('tech_df_copy.csv', index=False)"
   ],
   "id": "b6744b6743a9b6cf",
   "outputs": [],
   "execution_count": 126
  }
 ],
 "metadata": {
  "kernelspec": {
   "display_name": "Python 3",
   "language": "python",
   "name": "python3"
  },
  "language_info": {
   "codemirror_mode": {
    "name": "ipython",
    "version": 2
   },
   "file_extension": ".py",
   "mimetype": "text/x-python",
   "name": "python",
   "nbconvert_exporter": "python",
   "pygments_lexer": "ipython2",
   "version": "2.7.6"
  }
 },
 "nbformat": 4,
 "nbformat_minor": 5
}
